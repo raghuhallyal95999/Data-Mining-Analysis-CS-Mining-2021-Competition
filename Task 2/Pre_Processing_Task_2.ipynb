{
  "nbformat": 4,
  "nbformat_minor": 0,
  "metadata": {
    "kernelspec": {
      "display_name": "Python 3",
      "language": "python",
      "name": "python3"
    },
    "language_info": {
      "codemirror_mode": {
        "name": "ipython",
        "version": 3
      },
      "file_extension": ".py",
      "mimetype": "text/x-python",
      "name": "python",
      "nbconvert_exporter": "python",
      "pygments_lexer": "ipython3",
      "version": "3.8.8"
    },
    "colab": {
      "name": "Pre-Processing Task-2.ipynb",
      "provenance": []
    }
  },
  "cells": [
    {
      "cell_type": "code",
      "metadata": {
        "_cell_guid": "b1076dfc-b9ad-4769-8c92-a6c4dae69d19",
        "_uuid": "8f2839f25d086af736a60e9eeb907d3b93b6e0e5",
        "execution": {
          "iopub.execute_input": "2021-09-21T06:12:01.611294Z",
          "iopub.status.busy": "2021-09-21T06:12:01.611022Z",
          "iopub.status.idle": "2021-09-21T06:12:01.615595Z",
          "shell.execute_reply": "2021-09-21T06:12:01.614639Z",
          "shell.execute_reply.started": "2021-09-21T06:12:01.611263Z"
        },
        "id": "o9AHHEJDBgmP"
      },
      "source": [
        "import pandas as pd"
      ],
      "execution_count": null,
      "outputs": []
    },
    {
      "cell_type": "code",
      "metadata": {
        "execution": {
          "iopub.execute_input": "2021-09-21T06:12:01.617928Z",
          "iopub.status.busy": "2021-09-21T06:12:01.617175Z",
          "iopub.status.idle": "2021-09-21T06:12:01.629423Z",
          "shell.execute_reply": "2021-09-21T06:12:01.628457Z",
          "shell.execute_reply.started": "2021-09-21T06:12:01.617884Z"
        },
        "id": "asCGhxuNBgmT",
        "outputId": "1a404e05-52db-4596-e776-8d2abfedfe01"
      },
      "source": [
        "224*224"
      ],
      "execution_count": null,
      "outputs": [
        {
          "data": {
            "text/plain": [
              "50176"
            ]
          },
          "execution_count": 3,
          "metadata": {},
          "output_type": "execute_result"
        }
      ]
    },
    {
      "cell_type": "code",
      "metadata": {
        "execution": {
          "iopub.execute_input": "2021-09-21T06:12:01.631293Z",
          "iopub.status.busy": "2021-09-21T06:12:01.630935Z",
          "iopub.status.idle": "2021-09-21T06:12:01.640459Z",
          "shell.execute_reply": "2021-09-21T06:12:01.639887Z",
          "shell.execute_reply.started": "2021-09-21T06:12:01.631260Z"
        },
        "id": "gcx2PIRhBgmV"
      },
      "source": [
        "c = [x for x in range(50176)] # This is the column names"
      ],
      "execution_count": null,
      "outputs": []
    },
    {
      "cell_type": "code",
      "metadata": {
        "execution": {
          "iopub.execute_input": "2021-09-21T06:23:49.096243Z",
          "iopub.status.busy": "2021-09-21T06:23:49.095977Z",
          "iopub.status.idle": "2021-09-21T06:23:54.388057Z",
          "shell.execute_reply": "2021-09-21T06:23:54.387324Z",
          "shell.execute_reply.started": "2021-09-21T06:23:49.096214Z"
        },
        "id": "htjWzWH_BgmV"
      },
      "source": [
        "df = pd.read_csv(\"../input/klatask2/train_img_2d.csv\",nrows = 10,usecols = c)"
      ],
      "execution_count": null,
      "outputs": []
    },
    {
      "cell_type": "code",
      "metadata": {
        "execution": {
          "iopub.execute_input": "2021-09-21T06:23:54.394486Z",
          "iopub.status.busy": "2021-09-21T06:23:54.394244Z",
          "iopub.status.idle": "2021-09-21T06:23:54.422748Z",
          "shell.execute_reply": "2021-09-21T06:23:54.422068Z",
          "shell.execute_reply.started": "2021-09-21T06:23:54.394460Z"
        },
        "id": "I2Uzj8wrBgmW",
        "outputId": "5500d9c6-a0d9-4b7f-d4d3-db413ca1c1f4"
      },
      "source": [
        "df.head(2) # data frame containg the data"
      ],
      "execution_count": null,
      "outputs": [
        {
          "data": {
            "text/html": [
              "<div>\n",
              "<style scoped>\n",
              "    .dataframe tbody tr th:only-of-type {\n",
              "        vertical-align: middle;\n",
              "    }\n",
              "\n",
              "    .dataframe tbody tr th {\n",
              "        vertical-align: top;\n",
              "    }\n",
              "\n",
              "    .dataframe thead th {\n",
              "        text-align: right;\n",
              "    }\n",
              "</style>\n",
              "<table border=\"1\" class=\"dataframe\">\n",
              "  <thead>\n",
              "    <tr style=\"text-align: right;\">\n",
              "      <th></th>\n",
              "      <th>92</th>\n",
              "      <th>2</th>\n",
              "      <th>0</th>\n",
              "      <th>0.1</th>\n",
              "      <th>226</th>\n",
              "      <th>108</th>\n",
              "      <th>0.2</th>\n",
              "      <th>0.3</th>\n",
              "      <th>19</th>\n",
              "      <th>0.4</th>\n",
              "      <th>...</th>\n",
              "      <th>54.168</th>\n",
              "      <th>124.337</th>\n",
              "      <th>189.208</th>\n",
              "      <th>59.203</th>\n",
              "      <th>36.99</th>\n",
              "      <th>83.257</th>\n",
              "      <th>117.291</th>\n",
              "      <th>155.287</th>\n",
              "      <th>138.288</th>\n",
              "      <th>203.179</th>\n",
              "    </tr>\n",
              "  </thead>\n",
              "  <tbody>\n",
              "    <tr>\n",
              "      <th>0</th>\n",
              "      <td>18</td>\n",
              "      <td>0</td>\n",
              "      <td>58</td>\n",
              "      <td>15</td>\n",
              "      <td>1</td>\n",
              "      <td>0</td>\n",
              "      <td>0</td>\n",
              "      <td>0</td>\n",
              "      <td>0</td>\n",
              "      <td>0</td>\n",
              "      <td>...</td>\n",
              "      <td>5.0</td>\n",
              "      <td>0.0</td>\n",
              "      <td>8.0</td>\n",
              "      <td>0.0</td>\n",
              "      <td>8.0</td>\n",
              "      <td>3.0</td>\n",
              "      <td>3.0</td>\n",
              "      <td>0.0</td>\n",
              "      <td>24.0</td>\n",
              "      <td>9.0</td>\n",
              "    </tr>\n",
              "    <tr>\n",
              "      <th>1</th>\n",
              "      <td>34</td>\n",
              "      <td>1</td>\n",
              "      <td>2</td>\n",
              "      <td>0</td>\n",
              "      <td>80</td>\n",
              "      <td>38</td>\n",
              "      <td>2</td>\n",
              "      <td>0</td>\n",
              "      <td>8</td>\n",
              "      <td>1</td>\n",
              "      <td>...</td>\n",
              "      <td>41.0</td>\n",
              "      <td>79.0</td>\n",
              "      <td>18.0</td>\n",
              "      <td>57.0</td>\n",
              "      <td>34.0</td>\n",
              "      <td>51.0</td>\n",
              "      <td>57.0</td>\n",
              "      <td>4.0</td>\n",
              "      <td>9.0</td>\n",
              "      <td>2.0</td>\n",
              "    </tr>\n",
              "  </tbody>\n",
              "</table>\n",
              "<p>2 rows × 50176 columns</p>\n",
              "</div>"
            ],
            "text/plain": [
              "   92  2   0  0.1  226  108  0.2  0.3  19  0.4  ...  54.168  124.337  189.208  \\\n",
              "0  18  0  58   15    1    0    0    0   0    0  ...     5.0      0.0      8.0   \n",
              "1  34  1   2    0   80   38    2    0   8    1  ...    41.0     79.0     18.0   \n",
              "\n",
              "   59.203  36.99  83.257  117.291  155.287  138.288  203.179  \n",
              "0     0.0    8.0     3.0      3.0      0.0     24.0      9.0  \n",
              "1    57.0   34.0    51.0     57.0      4.0      9.0      2.0  \n",
              "\n",
              "[2 rows x 50176 columns]"
            ]
          },
          "execution_count": 17,
          "metadata": {},
          "output_type": "execute_result"
        }
      ]
    },
    {
      "cell_type": "code",
      "metadata": {
        "execution": {
          "iopub.execute_input": "2021-09-21T06:24:46.210599Z",
          "iopub.status.busy": "2021-09-21T06:24:46.210271Z",
          "iopub.status.idle": "2021-09-21T06:24:46.237401Z",
          "shell.execute_reply": "2021-09-21T06:24:46.236497Z",
          "shell.execute_reply.started": "2021-09-21T06:24:46.210569Z"
        },
        "id": "RSSScgnPBgmX"
      },
      "source": [
        "df.columns = c"
      ],
      "execution_count": null,
      "outputs": []
    },
    {
      "cell_type": "code",
      "metadata": {
        "execution": {
          "iopub.execute_input": "2021-09-21T06:24:52.149101Z",
          "iopub.status.busy": "2021-09-21T06:24:52.148834Z",
          "iopub.status.idle": "2021-09-21T06:24:52.173607Z",
          "shell.execute_reply": "2021-09-21T06:24:52.172772Z",
          "shell.execute_reply.started": "2021-09-21T06:24:52.149072Z"
        },
        "id": "sVaehsOkBgmX",
        "outputId": "ef65a253-89bb-42da-daf1-a01eafa27dbd"
      },
      "source": [
        "df.head(2)"
      ],
      "execution_count": null,
      "outputs": [
        {
          "data": {
            "text/html": [
              "<div>\n",
              "<style scoped>\n",
              "    .dataframe tbody tr th:only-of-type {\n",
              "        vertical-align: middle;\n",
              "    }\n",
              "\n",
              "    .dataframe tbody tr th {\n",
              "        vertical-align: top;\n",
              "    }\n",
              "\n",
              "    .dataframe thead th {\n",
              "        text-align: right;\n",
              "    }\n",
              "</style>\n",
              "<table border=\"1\" class=\"dataframe\">\n",
              "  <thead>\n",
              "    <tr style=\"text-align: right;\">\n",
              "      <th></th>\n",
              "      <th>0</th>\n",
              "      <th>1</th>\n",
              "      <th>2</th>\n",
              "      <th>3</th>\n",
              "      <th>4</th>\n",
              "      <th>5</th>\n",
              "      <th>6</th>\n",
              "      <th>7</th>\n",
              "      <th>8</th>\n",
              "      <th>9</th>\n",
              "      <th>...</th>\n",
              "      <th>50166</th>\n",
              "      <th>50167</th>\n",
              "      <th>50168</th>\n",
              "      <th>50169</th>\n",
              "      <th>50170</th>\n",
              "      <th>50171</th>\n",
              "      <th>50172</th>\n",
              "      <th>50173</th>\n",
              "      <th>50174</th>\n",
              "      <th>50175</th>\n",
              "    </tr>\n",
              "  </thead>\n",
              "  <tbody>\n",
              "    <tr>\n",
              "      <th>0</th>\n",
              "      <td>18</td>\n",
              "      <td>0</td>\n",
              "      <td>58</td>\n",
              "      <td>15</td>\n",
              "      <td>1</td>\n",
              "      <td>0</td>\n",
              "      <td>0</td>\n",
              "      <td>0</td>\n",
              "      <td>0</td>\n",
              "      <td>0</td>\n",
              "      <td>...</td>\n",
              "      <td>5.0</td>\n",
              "      <td>0.0</td>\n",
              "      <td>8.0</td>\n",
              "      <td>0.0</td>\n",
              "      <td>8.0</td>\n",
              "      <td>3.0</td>\n",
              "      <td>3.0</td>\n",
              "      <td>0.0</td>\n",
              "      <td>24.0</td>\n",
              "      <td>9.0</td>\n",
              "    </tr>\n",
              "    <tr>\n",
              "      <th>1</th>\n",
              "      <td>34</td>\n",
              "      <td>1</td>\n",
              "      <td>2</td>\n",
              "      <td>0</td>\n",
              "      <td>80</td>\n",
              "      <td>38</td>\n",
              "      <td>2</td>\n",
              "      <td>0</td>\n",
              "      <td>8</td>\n",
              "      <td>1</td>\n",
              "      <td>...</td>\n",
              "      <td>41.0</td>\n",
              "      <td>79.0</td>\n",
              "      <td>18.0</td>\n",
              "      <td>57.0</td>\n",
              "      <td>34.0</td>\n",
              "      <td>51.0</td>\n",
              "      <td>57.0</td>\n",
              "      <td>4.0</td>\n",
              "      <td>9.0</td>\n",
              "      <td>2.0</td>\n",
              "    </tr>\n",
              "  </tbody>\n",
              "</table>\n",
              "<p>2 rows × 50176 columns</p>\n",
              "</div>"
            ],
            "text/plain": [
              "   0      1      2      3      4      5      6      7      8      9      ...  \\\n",
              "0     18      0     58     15      1      0      0      0      0      0  ...   \n",
              "1     34      1      2      0     80     38      2      0      8      1  ...   \n",
              "\n",
              "   50166  50167  50168  50169  50170  50171  50172  50173  50174  50175  \n",
              "0    5.0    0.0    8.0    0.0    8.0    3.0    3.0    0.0   24.0    9.0  \n",
              "1   41.0   79.0   18.0   57.0   34.0   51.0   57.0    4.0    9.0    2.0  \n",
              "\n",
              "[2 rows x 50176 columns]"
            ]
          },
          "execution_count": 19,
          "metadata": {},
          "output_type": "execute_result"
        }
      ]
    },
    {
      "cell_type": "code",
      "metadata": {
        "id": "ogD1ryHsBgmY"
      },
      "source": [
        "for x in range()"
      ],
      "execution_count": null,
      "outputs": []
    },
    {
      "cell_type": "code",
      "metadata": {
        "execution": {
          "iopub.execute_input": "2021-09-21T06:26:37.605718Z",
          "iopub.status.busy": "2021-09-21T06:26:37.604787Z",
          "iopub.status.idle": "2021-09-21T06:26:37.671398Z",
          "shell.execute_reply": "2021-09-21T06:26:37.670646Z",
          "shell.execute_reply.started": "2021-09-21T06:26:37.605668Z"
        },
        "id": "mxDZ9zL3BgmY"
      },
      "source": [
        "a = df.iloc[1,c].values"
      ],
      "execution_count": null,
      "outputs": []
    },
    {
      "cell_type": "code",
      "metadata": {
        "execution": {
          "iopub.execute_input": "2021-09-21T06:26:59.048335Z",
          "iopub.status.busy": "2021-09-21T06:26:59.048066Z",
          "iopub.status.idle": "2021-09-21T06:26:59.052585Z",
          "shell.execute_reply": "2021-09-21T06:26:59.051736Z",
          "shell.execute_reply.started": "2021-09-21T06:26:59.048306Z"
        },
        "id": "_3Y51vmWBgmZ"
      },
      "source": [
        "b  = a.reshape((224,224)) # Reshaping to a image"
      ],
      "execution_count": null,
      "outputs": []
    },
    {
      "cell_type": "code",
      "metadata": {
        "execution": {
          "iopub.execute_input": "2021-09-21T06:27:03.145238Z",
          "iopub.status.busy": "2021-09-21T06:27:03.144869Z",
          "iopub.status.idle": "2021-09-21T06:27:03.151485Z",
          "shell.execute_reply": "2021-09-21T06:27:03.150753Z",
          "shell.execute_reply.started": "2021-09-21T06:27:03.145182Z"
        },
        "id": "DbXYXm8OBgmZ",
        "outputId": "7a6a097f-7140-40ba-ddd4-55720d04a6c6"
      },
      "source": [
        "b.shape"
      ],
      "execution_count": null,
      "outputs": [
        {
          "data": {
            "text/plain": [
              "(224, 224)"
            ]
          },
          "execution_count": 25,
          "metadata": {},
          "output_type": "execute_result"
        }
      ]
    },
    {
      "cell_type": "code",
      "metadata": {
        "execution": {
          "iopub.execute_input": "2021-09-21T06:36:16.808537Z",
          "iopub.status.busy": "2021-09-21T06:36:16.807729Z"
        },
        "id": "4vFMdoIzBgma",
        "outputId": "70fd098e-eafa-48cd-851c-2f47561ddec2"
      },
      "source": [
        "# converting images to a array and storing it in a array\n",
        "\n",
        "l = []\n",
        "from tqdm import tqdm \n",
        "for x in tqdm(range(3604)) :\n",
        "    df = pd.read_csv(\"../input/klatask2/train_img_2d.csv\",sep=',',skiprows = x ,nrows = 1,usecols = c)\n",
        "    df.columns = c\n",
        "    a = df.iloc[0,c].values\n",
        "    b  = a.reshape((224,224))\n",
        "    l.append(b)"
      ],
      "execution_count": null,
      "outputs": [
        {
          "name": "stderr",
          "output_type": "stream",
          "text": [
            "  0%|          | 2/3604 [00:06<3:27:59,  3.46s/it]"
          ]
        }
      ]
    },
    {
      "cell_type": "code",
      "metadata": {
        "execution": {
          "iopub.execute_input": "2021-09-21T06:34:43.642844Z",
          "iopub.status.busy": "2021-09-21T06:34:43.642225Z",
          "iopub.status.idle": "2021-09-21T06:34:43.651525Z",
          "shell.execute_reply": "2021-09-21T06:34:43.647967Z",
          "shell.execute_reply.started": "2021-09-21T06:34:43.642806Z"
        },
        "id": "0ZOzzXl6Bgma",
        "outputId": "600e7e77-d18a-4a88-ab6d-68850aca00da"
      },
      "source": [
        "len(l)"
      ],
      "execution_count": null,
      "outputs": [
        {
          "data": {
            "text/plain": [
              "8"
            ]
          },
          "execution_count": 30,
          "metadata": {},
          "output_type": "execute_result"
        }
      ]
    }
  ]
}