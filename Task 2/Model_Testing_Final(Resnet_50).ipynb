{
  "nbformat": 4,
  "nbformat_minor": 0,
  "metadata": {
    "kernelspec": {
      "display_name": "Python 3",
      "language": "python",
      "name": "python3"
    },
    "language_info": {
      "codemirror_mode": {
        "name": "ipython",
        "version": 3
      },
      "file_extension": ".py",
      "mimetype": "text/x-python",
      "name": "python",
      "nbconvert_exporter": "python",
      "pygments_lexer": "ipython3",
      "version": "3.8.8"
    },
    "colab": {
      "name": "Model-Testing Final(Resnet-50).ipynb",
      "provenance": []
    }
  },
  "cells": [
    {
      "cell_type": "code",
      "metadata": {
        "_cell_guid": "b1076dfc-b9ad-4769-8c92-a6c4dae69d19",
        "_uuid": "8f2839f25d086af736a60e9eeb907d3b93b6e0e5",
        "execution": {
          "iopub.execute_input": "2021-10-03T03:13:59.995608Z",
          "iopub.status.busy": "2021-10-03T03:13:59.995326Z",
          "iopub.status.idle": "2021-10-03T03:14:00.007264Z",
          "shell.execute_reply": "2021-10-03T03:14:00.006066Z",
          "shell.execute_reply.started": "2021-10-03T03:13:59.995532Z"
        },
        "id": "9imfwTL5Ad24"
      },
      "source": [
        "import pandas as pd"
      ],
      "execution_count": null,
      "outputs": []
    },
    {
      "cell_type": "code",
      "metadata": {
        "execution": {
          "iopub.execute_input": "2021-10-03T03:14:00.008809Z",
          "iopub.status.busy": "2021-10-03T03:14:00.008407Z",
          "iopub.status.idle": "2021-10-03T03:14:00.021649Z",
          "shell.execute_reply": "2021-10-03T03:14:00.020449Z",
          "shell.execute_reply.started": "2021-10-03T03:14:00.008779Z"
        },
        "id": "lNZQP7mrAd28"
      },
      "source": [
        "c = [x for x in range(224*224)]"
      ],
      "execution_count": null,
      "outputs": []
    },
    {
      "cell_type": "code",
      "metadata": {
        "execution": {
          "iopub.execute_input": "2021-10-03T03:14:00.023613Z",
          "iopub.status.busy": "2021-10-03T03:14:00.023198Z",
          "iopub.status.idle": "2021-10-03T03:14:03.188223Z",
          "shell.execute_reply": "2021-10-03T03:14:03.187112Z",
          "shell.execute_reply.started": "2021-10-03T03:14:00.023565Z"
        },
        "id": "9pizGyT8Ad28"
      },
      "source": [
        "import tensorflow as tf"
      ],
      "execution_count": null,
      "outputs": []
    },
    {
      "cell_type": "code",
      "metadata": {
        "execution": {
          "iopub.execute_input": "2021-10-03T03:14:03.191804Z",
          "iopub.status.busy": "2021-10-03T03:14:03.191537Z",
          "iopub.status.idle": "2021-10-03T03:14:05.403370Z",
          "shell.execute_reply": "2021-10-03T03:14:05.402303Z",
          "shell.execute_reply.started": "2021-10-03T03:14:03.191773Z"
        },
        "id": "MNwC9JofAd2-"
      },
      "source": [
        "# Loading the packages \n",
        "\n",
        "from tensorflow.keras.layers import Dense\n",
        "from tensorflow.keras.layers import Activation\n",
        "from tensorflow.keras.layers import Flatten\n",
        "from tensorflow.keras.layers import Conv2D\n",
        "from tensorflow.keras.layers import MaxPooling2D\n",
        "from tensorflow.keras.layers import GlobalMaxPooling2D\n",
        "from tensorflow.keras.layers import ZeroPadding2D\n",
        "from tensorflow.keras.layers import AveragePooling2D\n",
        "from tensorflow.keras.layers import GlobalAveragePooling2D\n",
        "from tensorflow.keras.layers import BatchNormalization,Input\n",
        "from tensorflow.keras.models import Model\n",
        "from tensorflow.keras import layers\n",
        "import tensorflow as tf\n",
        "\n",
        "\n",
        "\n",
        "# Creating the same training resnet model\n",
        "def identity_block(input_tensor, kernel_size, filters):\n",
        "    \n",
        "    filters1, filters2, filters3 = filters\n",
        "    \n",
        "    \n",
        "\n",
        "    x = Conv2D(filters1,1)(input_tensor)\n",
        "    x = BatchNormalization()(x)\n",
        "    x = Activation(tf.keras.layers.LeakyReLU(alpha=0.3))(x)\n",
        "\n",
        "    x = Conv2D(filters2, kernel_size,padding='same')(x)\n",
        "    x = BatchNormalization()(x)\n",
        "    x = Activation(tf.keras.layers.LeakyReLU(alpha=0.3))(x)\n",
        "\n",
        "    x = Conv2D(filters3, 1)(x)\n",
        "    x = BatchNormalization()(x)\n",
        "\n",
        "    x = layers.add([x, input_tensor])\n",
        "    x = Activation(tf.keras.layers.LeakyReLU(alpha=0.3))(x)\n",
        "    return x\n",
        "\n",
        "def conv_block(input_tensor, kernel_size, filters, strides=(2, 2)):\n",
        "    \n",
        "    \n",
        "    filters1, filters2, filters3 = filters\n",
        "\n",
        "    x = Conv2D(filters1, 1, strides=strides)(input_tensor)\n",
        "    x = BatchNormalization()(x)\n",
        "    x = Activation(tf.keras.layers.LeakyReLU(alpha=0.3))(x)\n",
        "\n",
        "    x = Conv2D(filters2, kernel_size, padding='same')(x)\n",
        "    x = BatchNormalization()(x)\n",
        "    x = Activation(tf.keras.layers.LeakyReLU(alpha=0.3))(x)\n",
        "\n",
        "    x = Conv2D(filters3,1)(x)\n",
        "    x = BatchNormalization()(x)\n",
        "\n",
        "    shortcut = Conv2D(filters3,  1, strides=strides)(input_tensor)\n",
        "    shortcut = BatchNormalization()(shortcut)\n",
        "\n",
        "    x = layers.add([x, shortcut])\n",
        "    x = Activation(tf.keras.layers.LeakyReLU(alpha=0.3))(x)\n",
        "    return x\n",
        "inputs = Input(shape=(224,224,1))\n",
        "\n",
        "x = ZeroPadding2D((3, 3))(inputs)\n",
        "x = Conv2D(64, (7, 7), strides=(2, 2))(x)\n",
        "x = BatchNormalization()(x)\n",
        "x = Activation(tf.keras.layers.LeakyReLU(alpha=0.3))(x)\n",
        "x = MaxPooling2D((3, 3), strides=(2, 2))(x)\n",
        "\n",
        "x = conv_block(x, 3, [64, 64, 256],  strides=(1, 1))\n",
        "x = identity_block(x, 3, [64, 64, 256] )\n",
        "x = identity_block(x, 3, [64, 64, 256])\n",
        "\n",
        "x = conv_block(x, 3, [128, 128, 512])\n",
        "x = identity_block(x, 3, [128, 128, 512])\n",
        "x = identity_block(x, 3, [128, 128, 512])\n",
        "x = identity_block(x, 3, [128, 128, 512])\n",
        "\n",
        "x = conv_block(x, 3, [256, 256, 1024])\n",
        "x = identity_block(x, 3, [256, 256, 1024])\n",
        "x = identity_block(x, 3, [256, 256, 1024])\n",
        "x = identity_block(x, 3, [256, 256, 1024])\n",
        "x = identity_block(x, 3, [256, 256, 1024])\n",
        "x = identity_block(x, 3, [256, 256, 1024])\n",
        "\n",
        "x = conv_block(x, 3, [512, 512, 2048])\n",
        "x = identity_block(x, 3, [512, 512, 2048])\n",
        "x = identity_block(x, 3, [512, 512, 2048])\n",
        "\n",
        "x = AveragePooling2D((7, 7))(x)\n",
        "\n",
        "   \n",
        "x = Flatten()(x)\n",
        "x = Dense(28, activation='softmax')(x)\n",
        "\n",
        "resmodel = Model(inputs, x)\n",
        "resmodel.compile(loss='categorical_crossentropy', optimizer='Adamax', metrics=['accuracy'])"
      ],
      "execution_count": null,
      "outputs": []
    },
    {
      "cell_type": "code",
      "metadata": {
        "execution": {
          "iopub.execute_input": "2021-10-03T03:14:05.405236Z",
          "iopub.status.busy": "2021-10-03T03:14:05.404855Z",
          "iopub.status.idle": "2021-10-03T03:14:05.411058Z",
          "shell.execute_reply": "2021-10-03T03:14:05.409796Z",
          "shell.execute_reply.started": "2021-10-03T03:14:05.405189Z"
        },
        "id": "i_4vTYnoAd2_"
      },
      "source": [
        "shape = 224"
      ],
      "execution_count": null,
      "outputs": []
    },
    {
      "cell_type": "code",
      "metadata": {
        "execution": {
          "iopub.execute_input": "2021-10-03T03:14:05.413399Z",
          "iopub.status.busy": "2021-10-03T03:14:05.412339Z",
          "iopub.status.idle": "2021-10-03T03:14:08.135897Z",
          "shell.execute_reply": "2021-10-03T03:14:08.134551Z",
          "shell.execute_reply.started": "2021-10-03T03:14:05.413361Z"
        },
        "id": "4yPcHq4LAd3A"
      },
      "source": [
        "# Loading the trained weights\n",
        "path = \"../input/klatask2/task2resnet50(m)leakyrelu (1).h5\"\n",
        "\n",
        "resmodel.load_weights(path)"
      ],
      "execution_count": null,
      "outputs": []
    },
    {
      "cell_type": "code",
      "metadata": {
        "execution": {
          "iopub.execute_input": "2021-10-03T03:14:08.138731Z",
          "iopub.status.busy": "2021-10-03T03:14:08.138072Z",
          "iopub.status.idle": "2021-10-03T03:14:08.147610Z",
          "shell.execute_reply": "2021-10-03T03:14:08.146408Z",
          "shell.execute_reply.started": "2021-10-03T03:14:08.138682Z"
        },
        "id": "Fd4UBZu1Ad3B"
      },
      "source": [
        "\n",
        "# Decoded labels from the model\n",
        "d = {'0.0': 0,\n",
        " '1.0': 1,\n",
        " '11.0': 2,\n",
        " '12.0': 3,\n",
        " '13.0': 4,\n",
        " '14.0': 5,\n",
        " '15.0': 6,\n",
        " '16.0': 7,\n",
        " '17.0': 8,\n",
        " '18.0': 9,\n",
        " '19.0': 10,\n",
        " '2.0': 11,\n",
        " '20.0': 12,\n",
        " '21.0': 13,\n",
        " '22.0': 14,\n",
        " '23.0': 15,\n",
        " '24.0': 16,\n",
        " '25.0': 17,\n",
        " '26.0': 18,\n",
        " '27.0': 19,\n",
        " '28.0': 20,\n",
        " '3.0': 21,\n",
        " '4.0': 22,\n",
        " '5.0': 23,\n",
        " '6.0': 24,\n",
        " '7.0': 25,\n",
        " '8.0': 26,\n",
        " '9.0': 27}"
      ],
      "execution_count": null,
      "outputs": []
    },
    {
      "cell_type": "code",
      "metadata": {
        "execution": {
          "iopub.execute_input": "2021-10-03T03:14:08.149781Z",
          "iopub.status.busy": "2021-10-03T03:14:08.149369Z",
          "iopub.status.idle": "2021-10-03T03:14:08.161348Z",
          "shell.execute_reply": "2021-10-03T03:14:08.160331Z",
          "shell.execute_reply.started": "2021-10-03T03:14:08.149731Z"
        },
        "id": "CPh-vxsVAd3B"
      },
      "source": [
        "ind = {v: k for k, v in d.items()}"
      ],
      "execution_count": null,
      "outputs": []
    },
    {
      "cell_type": "code",
      "metadata": {
        "execution": {
          "iopub.execute_input": "2021-10-03T03:18:32.371126Z",
          "iopub.status.busy": "2021-10-03T03:18:32.370775Z",
          "iopub.status.idle": "2021-10-03T03:19:25.793785Z",
          "shell.execute_reply": "2021-10-03T03:19:25.792142Z",
          "shell.execute_reply.started": "2021-10-03T03:18:32.371093Z"
        },
        "id": "YAPOZlKpAd3C"
      },
      "source": [
        "\n",
        "# Loading the test data and converting into numpy arrays and passing to the trained models and making predictions \n",
        "import matplotlib.pyplot as plt\n",
        "from skimage.transform import rescale, resize\n",
        "from tqdm import tqdm \n",
        "import numpy as np\n",
        "out = []\n",
        "for x in tqdm(range(0,1365)) :\n",
        "    try :\n",
        "        df = pd.read_csv(\"../input/klatask2/test_img_2d.csv\",sep = ',',skiprows = x ,nrows = 1,names = c) # loading csv file\n",
        " \n",
        "        df.columns = c\n",
        "        \n",
        "        a = df.iloc[0,c].values\n",
        "#         print(a)\n",
        "        b = a.reshape(shape,shape)\n",
        "#         print(b)\n",
        "        b  = b.reshape((1,shape,shape,1))\n",
        "        \n",
        "        b = b /255 \n",
        "        o = resmodel.predict(b)\n",
        "        out.append(float(ind[np.argmax(o)]))\n",
        "        \n",
        "        print(float(ind[np.argmax(o)]))\n",
        "       \n",
        "    except :\n",
        "        out.append(1.0)\n",
        "        \n",
        "    \n",
        "    \n",
        "    \n",
        "    \n",
        "    "
      ],
      "execution_count": null,
      "outputs": []
    },
    {
      "cell_type": "code",
      "metadata": {
        "execution": {
          "iopub.execute_input": "2021-10-03T03:15:32.022195Z",
          "iopub.status.busy": "2021-10-03T03:15:32.021708Z",
          "iopub.status.idle": "2021-10-03T03:15:49.280418Z",
          "shell.execute_reply": "2021-10-03T03:15:49.278891Z",
          "shell.execute_reply.started": "2021-10-03T03:15:32.022163Z"
        },
        "id": "qAFuwzgoAd3C"
      },
      "source": [
        "df = pd.read_csv(\"../input/klatask2/test_img_2d.csv\",sep = ',',skiprows = 0 ,nrows = 1,names = c)\n",
        "\n",
        "df.columns = c\n",
        "        \n",
        "a = df.iloc[0,c].values\n",
        "print(a)"
      ],
      "execution_count": null,
      "outputs": []
    },
    {
      "cell_type": "code",
      "metadata": {
        "execution": {
          "iopub.execute_input": "2021-10-03T03:15:57.163264Z",
          "iopub.status.busy": "2021-10-03T03:15:57.162953Z",
          "iopub.status.idle": "2021-10-03T03:15:57.174296Z",
          "shell.execute_reply": "2021-10-03T03:15:57.173049Z",
          "shell.execute_reply.started": "2021-10-03T03:15:57.163233Z"
        },
        "id": "H4zzuUKSAd3C"
      },
      "source": [
        "len(a)"
      ],
      "execution_count": null,
      "outputs": []
    },
    {
      "cell_type": "code",
      "metadata": {
        "execution": {
          "iopub.execute_input": "2021-10-03T03:16:59.398287Z",
          "iopub.status.busy": "2021-10-03T03:16:59.397882Z",
          "iopub.status.idle": "2021-10-03T03:16:59.403283Z",
          "shell.execute_reply": "2021-10-03T03:16:59.402102Z",
          "shell.execute_reply.started": "2021-10-03T03:16:59.398253Z"
        },
        "id": "p9BrKTR5Ad3C"
      },
      "source": [
        "a = a.reshape((shape,shape))"
      ],
      "execution_count": null,
      "outputs": []
    },
    {
      "cell_type": "code",
      "metadata": {
        "execution": {
          "iopub.execute_input": "2021-10-03T03:17:00.187216Z",
          "iopub.status.busy": "2021-10-03T03:17:00.186872Z",
          "iopub.status.idle": "2021-10-03T03:17:00.193081Z",
          "shell.execute_reply": "2021-10-03T03:17:00.192317Z",
          "shell.execute_reply.started": "2021-10-03T03:17:00.187183Z"
        },
        "id": "wVMRr74LAd3D"
      },
      "source": [
        "a.shape"
      ],
      "execution_count": null,
      "outputs": []
    },
    {
      "cell_type": "code",
      "metadata": {
        "execution": {
          "iopub.execute_input": "2021-10-03T03:17:15.683334Z",
          "iopub.status.busy": "2021-10-03T03:17:15.683019Z",
          "iopub.status.idle": "2021-10-03T03:17:15.688591Z",
          "shell.execute_reply": "2021-10-03T03:17:15.687887Z",
          "shell.execute_reply.started": "2021-10-03T03:17:15.683304Z"
        },
        "id": "849HHZMsAd3D"
      },
      "source": [
        "a = a.reshape((1,shape,shape,1))"
      ],
      "execution_count": null,
      "outputs": []
    },
    {
      "cell_type": "code",
      "metadata": {
        "id": "bqTwe1XjAd3D"
      },
      "source": [
        "df0 = pd.DataFrame()   #Converting to csv\n",
        "df0[\"Output\"] = out\n",
        "df0.to_csv(\"Task-2 Lables.csv\",index  = None)"
      ],
      "execution_count": null,
      "outputs": []
    },
    {
      "cell_type": "code",
      "metadata": {
        "id": "OZ_A3rFkAd3E"
      },
      "source": [
        "df0"
      ],
      "execution_count": null,
      "outputs": []
    },
    {
      "cell_type": "code",
      "metadata": {
        "id": "FD__D6VWAd3E"
      },
      "source": [
        ""
      ],
      "execution_count": null,
      "outputs": []
    }
  ]
}