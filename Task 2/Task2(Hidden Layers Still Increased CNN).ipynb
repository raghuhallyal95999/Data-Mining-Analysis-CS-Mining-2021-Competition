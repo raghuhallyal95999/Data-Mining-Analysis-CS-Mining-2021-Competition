{
 "cells": [
  {
   "cell_type": "code",
   "execution_count": 1,
   "metadata": {
    "execution": {
     "iopub.execute_input": "2021-09-25T02:46:06.236892Z",
     "iopub.status.busy": "2021-09-25T02:46:06.236355Z",
     "iopub.status.idle": "2021-09-25T02:46:06.312619Z",
     "shell.execute_reply": "2021-09-25T02:46:06.311906Z",
     "shell.execute_reply.started": "2021-09-25T02:46:06.236808Z"
    }
   },
   "outputs": [],
   "source": [
    "import os"
   ]
  },
  {
   "cell_type": "code",
   "execution_count": 2,
   "metadata": {
    "execution": {
     "iopub.execute_input": "2021-09-25T02:46:06.317563Z",
     "iopub.status.busy": "2021-09-25T02:46:06.317279Z",
     "iopub.status.idle": "2021-09-25T02:46:06.322051Z",
     "shell.execute_reply": "2021-09-25T02:46:06.321115Z",
     "shell.execute_reply.started": "2021-09-25T02:46:06.317528Z"
    }
   },
   "outputs": [],
   "source": [
    "path = \"../input/kla1task2/output\""
   ]
  },
  {
   "cell_type": "code",
   "execution_count": 3,
   "metadata": {
    "execution": {
     "iopub.execute_input": "2021-09-25T02:46:06.323833Z",
     "iopub.status.busy": "2021-09-25T02:46:06.323491Z",
     "iopub.status.idle": "2021-09-25T02:46:06.333386Z",
     "shell.execute_reply": "2021-09-25T02:46:06.332732Z",
     "shell.execute_reply.started": "2021-09-25T02:46:06.323801Z"
    }
   },
   "outputs": [],
   "source": [
    "labels =os.listdir(path)"
   ]
  },
  {
   "cell_type": "code",
   "execution_count": 4,
   "metadata": {
    "execution": {
     "iopub.execute_input": "2021-09-25T02:46:06.336680Z",
     "iopub.status.busy": "2021-09-25T02:46:06.336414Z",
     "iopub.status.idle": "2021-09-25T02:46:06.358955Z",
     "shell.execute_reply": "2021-09-25T02:46:06.358351Z",
     "shell.execute_reply.started": "2021-09-25T02:46:06.336650Z"
    }
   },
   "outputs": [],
   "source": [
    "d = {}\n",
    "for x in labels :\n",
    "    d[x] = len(os.listdir(path+'/'+ x))"
   ]
  },
  {
   "cell_type": "code",
   "execution_count": 5,
   "metadata": {
    "execution": {
     "iopub.execute_input": "2021-09-25T02:46:06.360262Z",
     "iopub.status.busy": "2021-09-25T02:46:06.360017Z",
     "iopub.status.idle": "2021-09-25T02:46:06.367280Z",
     "shell.execute_reply": "2021-09-25T02:46:06.366442Z",
     "shell.execute_reply.started": "2021-09-25T02:46:06.360230Z"
    }
   },
   "outputs": [],
   "source": [
    "len(d)"
   ]
  },
  {
   "cell_type": "code",
   "execution_count": 6,
   "metadata": {
    "execution": {
     "iopub.execute_input": "2021-09-25T02:46:06.369148Z",
     "iopub.status.busy": "2021-09-25T02:46:06.368645Z",
     "iopub.status.idle": "2021-09-25T02:46:06.378185Z",
     "shell.execute_reply": "2021-09-25T02:46:06.377337Z",
     "shell.execute_reply.started": "2021-09-25T02:46:06.369116Z"
    }
   },
   "outputs": [],
   "source": [
    "d"
   ]
  },
  {
   "cell_type": "code",
   "execution_count": 7,
   "metadata": {
    "execution": {
     "iopub.execute_input": "2021-09-25T02:46:06.379942Z",
     "iopub.status.busy": "2021-09-25T02:46:06.379638Z",
     "iopub.status.idle": "2021-09-25T02:46:08.081314Z",
     "shell.execute_reply": "2021-09-25T02:46:08.080617Z",
     "shell.execute_reply.started": "2021-09-25T02:46:06.379908Z"
    }
   },
   "outputs": [],
   "source": [
    "import numpy as np\n",
    "import pandas as pd \n",
    "from tensorflow.keras.preprocessing.image import ImageDataGenerator, load_img\n",
    "from tensorflow.keras.utils import to_categorical\n",
    "from sklearn.model_selection import train_test_split\n",
    "import matplotlib.pyplot as plt\n",
    "import random\n",
    "import os\n",
    "import matplotlib.pyplot as plt\n"
   ]
  },
  {
   "cell_type": "code",
   "execution_count": 8,
   "metadata": {
    "execution": {
     "iopub.execute_input": "2021-09-25T02:46:08.082913Z",
     "iopub.status.busy": "2021-09-25T02:46:08.082642Z",
     "iopub.status.idle": "2021-09-25T02:46:08.087142Z",
     "shell.execute_reply": "2021-09-25T02:46:08.086369Z",
     "shell.execute_reply.started": "2021-09-25T02:46:08.082880Z"
    }
   },
   "outputs": [],
   "source": [
    "\n",
    "filenames = os.listdir(\"../input/kla1task2/output\")\n"
   ]
  },
  {
   "cell_type": "code",
   "execution_count": 9,
   "metadata": {
    "execution": {
     "iopub.execute_input": "2021-09-25T02:46:08.089082Z",
     "iopub.status.busy": "2021-09-25T02:46:08.088817Z",
     "iopub.status.idle": "2021-09-25T02:46:08.113680Z",
     "shell.execute_reply": "2021-09-25T02:46:08.113053Z",
     "shell.execute_reply.started": "2021-09-25T02:46:08.089049Z"
    }
   },
   "outputs": [],
   "source": [
    "files = []\n",
    "categories = []\n",
    "for filename in filenames:\n",
    "    \n",
    "    file  = \"../input/kla1task2/output/\" + filename\n",
    "    \n",
    "    for x in os.listdir(file):\n",
    "        p = file +\"//\"+ x\n",
    "        files.append(p)\n",
    "        categories.append(filename)\n",
    "#         print(filename,p)\n",
    "    \n",
    "df = pd.DataFrame({\n",
    "    'filename': files,\n",
    "    'category': categories\n",
    "})"
   ]
  },
  {
   "cell_type": "code",
   "execution_count": 10,
   "metadata": {
    "execution": {
     "iopub.execute_input": "2021-09-25T02:46:08.115039Z",
     "iopub.status.busy": "2021-09-25T02:46:08.114767Z",
     "iopub.status.idle": "2021-09-25T02:46:08.128356Z",
     "shell.execute_reply": "2021-09-25T02:46:08.127466Z",
     "shell.execute_reply.started": "2021-09-25T02:46:08.115008Z"
    }
   },
   "outputs": [],
   "source": [
    "df.head()"
   ]
  },
  {
   "cell_type": "code",
   "execution_count": 11,
   "metadata": {
    "execution": {
     "iopub.execute_input": "2021-09-25T02:46:08.130189Z",
     "iopub.status.busy": "2021-09-25T02:46:08.129912Z",
     "iopub.status.idle": "2021-09-25T02:46:08.136363Z",
     "shell.execute_reply": "2021-09-25T02:46:08.135721Z",
     "shell.execute_reply.started": "2021-09-25T02:46:08.130156Z"
    }
   },
   "outputs": [],
   "source": [
    "FAST_RUN = False\n",
    "IMAGE_WIDTH=256\n",
    "IMAGE_HEIGHT=256"
   ]
  },
  {
   "cell_type": "code",
   "execution_count": 12,
   "metadata": {
    "execution": {
     "iopub.execute_input": "2021-09-25T02:46:08.137959Z",
     "iopub.status.busy": "2021-09-25T02:46:08.137721Z",
     "iopub.status.idle": "2021-09-25T02:46:08.145633Z",
     "shell.execute_reply": "2021-09-25T02:46:08.144866Z",
     "shell.execute_reply.started": "2021-09-25T02:46:08.137937Z"
    }
   },
   "outputs": [],
   "source": [
    "IMAGE_SIZE=(IMAGE_WIDTH, IMAGE_HEIGHT)\n",
    "IMAGE_CHANNELS=1"
   ]
  },
  {
   "cell_type": "code",
   "execution_count": 13,
   "metadata": {
    "execution": {
     "iopub.execute_input": "2021-09-25T02:46:08.149868Z",
     "iopub.status.busy": "2021-09-25T02:46:08.149652Z",
     "iopub.status.idle": "2021-09-25T02:46:08.157468Z",
     "shell.execute_reply": "2021-09-25T02:46:08.156811Z",
     "shell.execute_reply.started": "2021-09-25T02:46:08.149839Z"
    }
   },
   "outputs": [],
   "source": [
    "from tensorflow.keras.layers import Input, Conv2D, BatchNormalization, Activation, MaxPool2D, UpSampling2D, Concatenate,MaxPooling2D,Dropout,Flatten,Dense\n",
    "from tensorflow.keras.models import Model\n",
    "from tensorflow.keras.utils import plot_model\n",
    "import tensorflow as tf\n",
    "\n",
    "from tensorflow.keras.callbacks import ModelCheckpoint, ReduceLROnPlateau, EarlyStopping, Callback\n",
    "\n",
    "def cnnblock(layer,filters,filtershape,dr = 0.25,deep = False , pool = True) :\n",
    "    \n",
    "    y = Conv2D(filters[0], filtershape, padding='same')(layer)\n",
    "    y = Activation('relu')(y)\n",
    "    y = Conv2D(filters[1], filtershape, padding='same')(y)\n",
    "    y = Activation('relu')(y)\n",
    "    if pool :\n",
    "        y = MaxPooling2D(pool_size=(2, 2))(y)\n",
    "    if deep :\n",
    "        y = BatchNormalization()(y)\n",
    "        y = Dropout(dr)(y)\n",
    "    \n",
    "    \n",
    "    return y"
   ]
  },
  {
   "cell_type": "code",
   "execution_count": 14,
   "metadata": {
    "execution": {
     "iopub.execute_input": "2021-09-25T02:46:08.159309Z",
     "iopub.status.busy": "2021-09-25T02:46:08.158547Z",
     "iopub.status.idle": "2021-09-25T02:46:09.380484Z",
     "shell.execute_reply": "2021-09-25T02:46:09.379777Z",
     "shell.execute_reply.started": "2021-09-25T02:46:08.159275Z"
    }
   },
   "outputs": [],
   "source": [
    "inputs = Input(shape=(IMAGE_WIDTH, IMAGE_HEIGHT, IMAGE_CHANNELS))\n",
    "\n",
    "x = cnnblock(inputs,[32,32],3,pool = True)\n",
    "\n",
    "x = cnnblock(x,[64,64],3)\n",
    "\n",
    "x = cnnblock(x,[128,128],3,deep = True)\n",
    "\n",
    "x = cnnblock(x,[96,96],3,deep = True)\n",
    "\n",
    "x = cnnblock(x,[64,64],3,deep = True)\n",
    "\n",
    "x = cnnblock(x,[32,32],3,deep = True)\n",
    "\n",
    "x = cnnblock(x,[16,16],3,deep = True)\n",
    "\n",
    "x = cnnblock(x,[16,16],3,deep = True)\n",
    "\n",
    "x = Flatten()(x)\n",
    "\n",
    "x = Dense(1000, activation='relu')(x)\n",
    "\n",
    "x = Dense(300, activation='relu')(x)\n",
    "\n",
    "x = Dense(28, activation='softmax')(x)\n",
    "\n",
    "model = Model(inputs, x)\n",
    "model.compile(loss='categorical_crossentropy', optimizer='adam', metrics=['accuracy'])"
   ]
  },
  {
   "cell_type": "code",
   "execution_count": 15,
   "metadata": {
    "execution": {
     "iopub.execute_input": "2021-09-25T02:46:09.382059Z",
     "iopub.status.busy": "2021-09-25T02:46:09.381790Z",
     "iopub.status.idle": "2021-09-25T02:46:09.401386Z",
     "shell.execute_reply": "2021-09-25T02:46:09.397786Z",
     "shell.execute_reply.started": "2021-09-25T02:46:09.382028Z"
    }
   },
   "outputs": [],
   "source": [
    "model.summary()"
   ]
  },
  {
   "cell_type": "code",
   "execution_count": 18,
   "metadata": {
    "execution": {
     "iopub.execute_input": "2021-09-25T02:46:46.756120Z",
     "iopub.status.busy": "2021-09-25T02:46:46.755366Z",
     "iopub.status.idle": "2021-09-25T02:46:47.141159Z",
     "shell.execute_reply": "2021-09-25T02:46:47.140478Z",
     "shell.execute_reply.started": "2021-09-25T02:46:46.756078Z"
    }
   },
   "outputs": [],
   "source": [
    "from sklearn.model_selection import train_test_split\n",
    "df = df.sample(frac = 1)\n",
    "\n",
    "plt.figure(figsize = (20,20))\n",
    "df['category'].value_counts().plot.bar()"
   ]
  },
  {
   "cell_type": "code",
   "execution_count": 20,
   "metadata": {
    "execution": {
     "iopub.execute_input": "2021-09-25T02:47:07.518114Z",
     "iopub.status.busy": "2021-09-25T02:47:07.517759Z",
     "iopub.status.idle": "2021-09-25T02:47:07.522708Z",
     "shell.execute_reply": "2021-09-25T02:47:07.522001Z",
     "shell.execute_reply.started": "2021-09-25T02:47:07.518075Z"
    }
   },
   "outputs": [],
   "source": [
    "total_train = df.shape[0]\n",
    "total_validate = df.shape[0]\n",
    "batch_size = 64"
   ]
  },
  {
   "cell_type": "code",
   "execution_count": 21,
   "metadata": {
    "execution": {
     "iopub.execute_input": "2021-09-25T02:47:07.524802Z",
     "iopub.status.busy": "2021-09-25T02:47:07.524327Z",
     "iopub.status.idle": "2021-09-25T02:47:08.839488Z",
     "shell.execute_reply": "2021-09-25T02:47:08.838759Z",
     "shell.execute_reply.started": "2021-09-25T02:47:07.524770Z"
    }
   },
   "outputs": [],
   "source": [
    "t_datagen = ImageDataGenerator(\n",
    "    rotation_range=15,\n",
    "    rescale=1./255,\n",
    "    shear_range=0.1,\n",
    "    width_shift_range=0.1,\n",
    "    height_shift_range=0.1\n",
    ")\n",
    "\n",
    "t_generator = t_datagen.flow_from_dataframe(\n",
    "    df, \n",
    "    color_mode=\"grayscale\",\n",
    "    x_col='filename',\n",
    "    y_col='category',\n",
    "    target_size=IMAGE_SIZE,\n",
    "    class_mode='categorical',\n",
    "    batch_size=batch_size\n",
    ")\n"
   ]
  },
  {
   "cell_type": "code",
   "execution_count": 23,
   "metadata": {
    "execution": {
     "iopub.execute_input": "2021-09-25T02:47:08.849845Z",
     "iopub.status.busy": "2021-09-25T02:47:08.849605Z",
     "iopub.status.idle": "2021-09-25T02:47:08.858797Z",
     "shell.execute_reply": "2021-09-25T02:47:08.858002Z",
     "shell.execute_reply.started": "2021-09-25T02:47:08.849817Z"
    }
   },
   "outputs": [],
   "source": [
    "t_generator.class_indices"
   ]
  },
  {
   "cell_type": "code",
   "execution_count": 24,
   "metadata": {
    "execution": {
     "iopub.execute_input": "2021-09-25T02:47:08.860777Z",
     "iopub.status.busy": "2021-09-25T02:47:08.860180Z",
     "iopub.status.idle": "2021-09-25T02:47:08.869164Z",
     "shell.execute_reply": "2021-09-25T02:47:08.868442Z",
     "shell.execute_reply.started": "2021-09-25T02:47:08.860741Z"
    }
   },
   "outputs": [],
   "source": [
    "len(d)"
   ]
  },
  {
   "cell_type": "code",
   "execution_count": 25,
   "metadata": {
    "execution": {
     "iopub.execute_input": "2021-09-25T02:47:08.871022Z",
     "iopub.status.busy": "2021-09-25T02:47:08.870489Z",
     "iopub.status.idle": "2021-09-25T02:47:08.875880Z",
     "shell.execute_reply": "2021-09-25T02:47:08.875201Z",
     "shell.execute_reply.started": "2021-09-25T02:47:08.870951Z"
    }
   },
   "outputs": [],
   "source": [
    "d = t_generator.class_indices\n"
   ]
  },
  {
   "cell_type": "code",
   "execution_count": 26,
   "metadata": {
    "execution": {
     "iopub.execute_input": "2021-09-25T02:47:08.877724Z",
     "iopub.status.busy": "2021-09-25T02:47:08.877197Z",
     "iopub.status.idle": "2021-09-25T02:47:08.884253Z",
     "shell.execute_reply": "2021-09-25T02:47:08.883554Z",
     "shell.execute_reply.started": "2021-09-25T02:47:08.877658Z"
    }
   },
   "outputs": [],
   "source": [
    "from tensorflow.keras.callbacks import ModelCheckpoint, ReduceLROnPlateau\n",
    "red = ReduceLROnPlateau(monitor='val_accuracy', factor=0.5, patience=5, verbose=1, min_lr=1e-3)\n",
    "checkpoint = ModelCheckpoint('model.h5', verbose=1, save_best_only=True)"
   ]
  },
  {
   "cell_type": "code",
   "execution_count": null,
   "metadata": {
    "execution": {
     "iopub.execute_input": "2021-09-25T02:47:08.887192Z",
     "iopub.status.busy": "2021-09-25T02:47:08.886983Z"
    }
   },
   "outputs": [],
   "source": [
    "epochs=100\n",
    "modelhistory = model.fit(\n",
    "    t_generator, \n",
    "    epochs=epochs,\n",
    "    \n",
    "    steps_per_epoch=len(df)//batch_size,callbacks=[red, checkpoint])\n",
    "    \n"
   ]
  },
  {
   "cell_type": "code",
   "execution_count": null,
   "metadata": {},
   "outputs": [],
   "source": [
    "model.save_weights(\"task2(w).h5\")\n",
    "model.save(\"task2(m).h5\")"
   ]
  },
  {
   "cell_type": "code",
   "execution_count": null,
   "metadata": {},
   "outputs": [],
   "source": []
  },
  {
   "cell_type": "code",
   "execution_count": null,
   "metadata": {},
   "outputs": [],
   "source": []
  }
 ],
 "metadata": {
  "kernelspec": {
   "display_name": "Python 3",
   "language": "python",
   "name": "python3"
  },
  "language_info": {
   "codemirror_mode": {
    "name": "ipython",
    "version": 3
   },
   "file_extension": ".py",
   "mimetype": "text/x-python",
   "name": "python",
   "nbconvert_exporter": "python",
   "pygments_lexer": "ipython3",
   "version": "3.8.8"
  }
 },
 "nbformat": 4,
 "nbformat_minor": 4
}
