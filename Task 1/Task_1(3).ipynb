{
  "nbformat": 4,
  "nbformat_minor": 0,
  "metadata": {
    "colab": {
      "name": "task1_new_method.ipynb",
      "provenance": [],
      "collapsed_sections": []
    },
    "kernelspec": {
      "name": "python3",
      "display_name": "Python 3"
    },
    "language_info": {
      "name": "python"
    }
  },
  "cells": [
    {
      "cell_type": "code",
      "metadata": {
        "colab": {
          "base_uri": "https://localhost:8080/"
        },
        "id": "yETvJE4xtbqB",
        "outputId": "9222f8e8-439e-4799-f4e0-a20161197c7b"
      },
      "source": [
        "import numpy as np\n",
        "import pandas as pd\n",
        "import matplotlib.pyplot as plt\n",
        "%pylab inline"
      ],
      "execution_count": 1,
      "outputs": [
        {
          "output_type": "stream",
          "name": "stdout",
          "text": [
            "Populating the interactive namespace from numpy and matplotlib\n"
          ]
        }
      ]
    },
    {
      "cell_type": "code",
      "metadata": {
        "colab": {
          "base_uri": "https://localhost:8080/"
        },
        "id": "Wx-OyvhGJxhn",
        "outputId": "59650814-1bf5-4f2c-aa0b-90da8bdb6631"
      },
      "source": [
        "from google.colab import drive\n",
        "drive.mount('/content/gdrive',force_remount=True)"
      ],
      "execution_count": 2,
      "outputs": [
        {
          "output_type": "stream",
          "name": "stdout",
          "text": [
            "Mounted at /content/gdrive\n"
          ]
        }
      ]
    },
    {
      "cell_type": "code",
      "metadata": {
        "colab": {
          "base_uri": "https://localhost:8080/",
          "height": 203
        },
        "id": "N2tJkQY-LMkQ",
        "outputId": "9e105809-af9f-4ed0-967e-444cad93af32"
      },
      "source": [
        "columns = ['Index','Category','word_vector','Label']\n",
        "train = pd.read_csv(\"/content/gdrive/MyDrive/DMA Data Set/Task_1/Training.tsv\",sep='\\t',names = columns, header=0)\n",
        "train.head()"
      ],
      "execution_count": 3,
      "outputs": [
        {
          "output_type": "execute_result",
          "data": {
            "text/html": [
              "<div>\n",
              "<style scoped>\n",
              "    .dataframe tbody tr th:only-of-type {\n",
              "        vertical-align: middle;\n",
              "    }\n",
              "\n",
              "    .dataframe tbody tr th {\n",
              "        vertical-align: top;\n",
              "    }\n",
              "\n",
              "    .dataframe thead th {\n",
              "        text-align: right;\n",
              "    }\n",
              "</style>\n",
              "<table border=\"1\" class=\"dataframe\">\n",
              "  <thead>\n",
              "    <tr style=\"text-align: right;\">\n",
              "      <th></th>\n",
              "      <th>Index</th>\n",
              "      <th>Category</th>\n",
              "      <th>word_vector</th>\n",
              "      <th>Label</th>\n",
              "    </tr>\n",
              "  </thead>\n",
              "  <tbody>\n",
              "    <tr>\n",
              "      <th>0</th>\n",
              "      <td>0</td>\n",
              "      <td>24</td>\n",
              "      <td>[[-0.507, -0.49518, 0.46885, 0.54524, -0.11552...</td>\n",
              "      <td>2.0</td>\n",
              "    </tr>\n",
              "    <tr>\n",
              "      <th>1</th>\n",
              "      <td>1</td>\n",
              "      <td>13</td>\n",
              "      <td>[[0.19911, -0.46156, 0.19674, -1.3298, 0.51805...</td>\n",
              "      <td>1.0</td>\n",
              "    </tr>\n",
              "    <tr>\n",
              "      <th>2</th>\n",
              "      <td>2</td>\n",
              "      <td>24</td>\n",
              "      <td>[[-0.7403, -0.78746, 0.47018, 0.43474, 0.05842...</td>\n",
              "      <td>1.0</td>\n",
              "    </tr>\n",
              "    <tr>\n",
              "      <th>3</th>\n",
              "      <td>3</td>\n",
              "      <td>21</td>\n",
              "      <td>[[-0.44257, -0.54624, 0.25403, 0.80731, 1.026,...</td>\n",
              "      <td>1.0</td>\n",
              "    </tr>\n",
              "    <tr>\n",
              "      <th>4</th>\n",
              "      <td>4</td>\n",
              "      <td>13</td>\n",
              "      <td>[[0.19911, -0.46156, 0.19674, -1.3298, 0.51805...</td>\n",
              "      <td>2.0</td>\n",
              "    </tr>\n",
              "  </tbody>\n",
              "</table>\n",
              "</div>"
            ],
            "text/plain": [
              "   Index  Category                                        word_vector  Label\n",
              "0      0        24  [[-0.507, -0.49518, 0.46885, 0.54524, -0.11552...    2.0\n",
              "1      1        13  [[0.19911, -0.46156, 0.19674, -1.3298, 0.51805...    1.0\n",
              "2      2        24  [[-0.7403, -0.78746, 0.47018, 0.43474, 0.05842...    1.0\n",
              "3      3        21  [[-0.44257, -0.54624, 0.25403, 0.80731, 1.026,...    1.0\n",
              "4      4        13  [[0.19911, -0.46156, 0.19674, -1.3298, 0.51805...    2.0"
            ]
          },
          "metadata": {},
          "execution_count": 3
        }
      ]
    },
    {
      "cell_type": "code",
      "metadata": {
        "id": "YeJIt0uoJw3O"
      },
      "source": [
        "X = train.drop('Label',axis=1)"
      ],
      "execution_count": 4,
      "outputs": []
    },
    {
      "cell_type": "code",
      "metadata": {
        "id": "6hxJl7UMJ8al"
      },
      "source": [
        "Y = train['Label']"
      ],
      "execution_count": 5,
      "outputs": []
    },
    {
      "cell_type": "code",
      "metadata": {
        "id": "ao3V9fzVX-5Q"
      },
      "source": [
        "Y = Y.astype(numpy.intc)"
      ],
      "execution_count": 6,
      "outputs": []
    },
    {
      "cell_type": "code",
      "metadata": {
        "id": "b85RRcWJh0-c"
      },
      "source": [
        "#from sklearn import cross_validation\n",
        "from sklearn.model_selection import train_test_split\n",
        "## Spliting of training dataset into 80% training data and 20% testing data randomly\n",
        "features_train, features_test, labels_train, labels_test = train_test_split(X, Y, test_size=0.7, random_state=1)"
      ],
      "execution_count": 7,
      "outputs": []
    },
    {
      "cell_type": "code",
      "metadata": {
        "id": "AC4JR6d-MDQy"
      },
      "source": [
        "train = pd.concat([features_train,labels_train],axis=1)"
      ],
      "execution_count": 8,
      "outputs": []
    },
    {
      "cell_type": "code",
      "metadata": {
        "id": "jmh117gANyh5"
      },
      "source": [
        "train.drop('Index',inplace=True,axis=1)"
      ],
      "execution_count": 9,
      "outputs": []
    },
    {
      "cell_type": "code",
      "metadata": {
        "id": "Qt3rhf2dOTTA"
      },
      "source": [
        "X = train.drop('Label',axis=1)\n",
        "Y = train['Label']"
      ],
      "execution_count": 10,
      "outputs": []
    },
    {
      "cell_type": "code",
      "metadata": {
        "id": "hgMkr9WaOjJA"
      },
      "source": [
        "features_train2, features_test2, labels_train2, labels_test2 = train_test_split(X, Y, test_size=0.5, random_state=1)"
      ],
      "execution_count": 11,
      "outputs": []
    },
    {
      "cell_type": "code",
      "metadata": {
        "id": "S_43UbfAOvgQ"
      },
      "source": [
        "train_1 = pd.concat([features_train2,labels_train2],axis=1)"
      ],
      "execution_count": 12,
      "outputs": []
    },
    {
      "cell_type": "code",
      "metadata": {
        "id": "0ZYUeKnSPK6g"
      },
      "source": [
        "train_2 = pd.concat([features_test2,labels_test2],axis=1)"
      ],
      "execution_count": 13,
      "outputs": []
    },
    {
      "cell_type": "code",
      "metadata": {
        "id": "IJ8YvzJOPSTv"
      },
      "source": [
        "cols = ['Category','word_vector','Label']"
      ],
      "execution_count": 14,
      "outputs": []
    },
    {
      "cell_type": "code",
      "metadata": {
        "id": "NKALo5_PSwL1"
      },
      "source": [
        "test = train_1.copy()\n",
        "test = test.reset_index(drop=True)"
      ],
      "execution_count": 15,
      "outputs": []
    },
    {
      "cell_type": "code",
      "metadata": {
        "colab": {
          "base_uri": "https://localhost:8080/"
        },
        "id": "8tPXBiMN2QrM",
        "outputId": "ff9ed192-e0f4-49d8-e749-e0c8b997c017"
      },
      "source": [
        "from tqdm import tqdm,trange\n",
        "for i in tqdm(range(18456),desc=\"Numpy Array conversion Progess:\"): #Total 123040 rows\n",
        "  test.word_vector[i] = eval(test.word_vector[i])\n",
        "  while(len(test.word_vector[i])>1):\n",
        "    dft = pd.DataFrame([[test.Category[i],test.word_vector[i].pop(),test.Label[i]]],columns=cols)\n",
        "    test = test.append(dft,ignore_index=True)"
      ],
      "execution_count": 16,
      "outputs": [
        {
          "output_type": "stream",
          "name": "stderr",
          "text": [
            "Numpy Array conversion Progess::   0%|          | 0/18456 [00:00<?, ?it/s]/usr/local/lib/python3.7/dist-packages/ipykernel_launcher.py:3: SettingWithCopyWarning: \n",
            "A value is trying to be set on a copy of a slice from a DataFrame\n",
            "\n",
            "See the caveats in the documentation: https://pandas.pydata.org/pandas-docs/stable/user_guide/indexing.html#returning-a-view-versus-a-copy\n",
            "  This is separate from the ipykernel package so we can avoid doing imports until\n",
            "Numpy Array conversion Progess:: 100%|██████████| 18456/18456 [24:34<00:00, 12.52it/s]\n"
          ]
        }
      ]
    },
    {
      "cell_type": "code",
      "metadata": {
        "id": "BOisgtvNe_C7"
      },
      "source": [
        "train_1 = test"
      ],
      "execution_count": 17,
      "outputs": []
    },
    {
      "cell_type": "code",
      "metadata": {
        "id": "Xpy6SaOxTvJw"
      },
      "source": [
        "test = train_2.copy()\n",
        "test = test.reset_index(drop=True)"
      ],
      "execution_count": 18,
      "outputs": []
    },
    {
      "cell_type": "code",
      "metadata": {
        "colab": {
          "base_uri": "https://localhost:8080/"
        },
        "id": "zgE_vfnjT1Mc",
        "outputId": "ae11124f-de73-46ec-da4c-b69555aac77d"
      },
      "source": [
        "from tqdm import tqdm,trange\n",
        "for i in tqdm(range(18456),desc=\"Numpy Array conversion Progess:\"): #Total 123040 rows\n",
        "  test.word_vector[i] = eval(test.word_vector[i])\n",
        "  while(len(test.word_vector[i])>1):\n",
        "    dft = pd.DataFrame([[test.Category[i],test.word_vector[i].pop(),test.Label[i]]],columns=cols)\n",
        "    test = test.append(dft,ignore_index=True)"
      ],
      "execution_count": 19,
      "outputs": [
        {
          "output_type": "stream",
          "name": "stderr",
          "text": [
            "\rNumpy Array conversion Progess::   0%|          | 0/18456 [00:00<?, ?it/s]/usr/local/lib/python3.7/dist-packages/ipykernel_launcher.py:3: SettingWithCopyWarning: \n",
            "A value is trying to be set on a copy of a slice from a DataFrame\n",
            "\n",
            "See the caveats in the documentation: https://pandas.pydata.org/pandas-docs/stable/user_guide/indexing.html#returning-a-view-versus-a-copy\n",
            "  This is separate from the ipykernel package so we can avoid doing imports until\n",
            "Numpy Array conversion Progess:: 100%|██████████| 18456/18456 [21:48<00:00, 14.11it/s]\n"
          ]
        }
      ]
    },
    {
      "cell_type": "code",
      "metadata": {
        "id": "x1b2yxbre4Sb"
      },
      "source": [
        "train_2 = test"
      ],
      "execution_count": 20,
      "outputs": []
    },
    {
      "cell_type": "code",
      "metadata": {
        "id": "e5Slyw0jYWmx"
      },
      "source": [
        "train_1 = train_1.reset_index(drop=True)\n",
        "train_2 = train_2.reset_index(drop=True)"
      ],
      "execution_count": 21,
      "outputs": []
    },
    {
      "cell_type": "code",
      "metadata": {
        "id": "oT-MDWNSrOUz"
      },
      "source": [
        "train = pd.concat([train_1,train_2],ignore_index=True)"
      ],
      "execution_count": 22,
      "outputs": []
    },
    {
      "cell_type": "code",
      "metadata": {
        "colab": {
          "base_uri": "https://localhost:8080/"
        },
        "id": "5uO9ox_9yo5E",
        "outputId": "e6c901bd-4452-49d2-f706-475eff20dcaf"
      },
      "source": [
        "for i in range(18456):\n",
        "  train.word_vector[i] = train.word_vector[i][0]"
      ],
      "execution_count": 31,
      "outputs": [
        {
          "output_type": "stream",
          "name": "stderr",
          "text": [
            "/usr/local/lib/python3.7/dist-packages/ipykernel_launcher.py:2: SettingWithCopyWarning: \n",
            "A value is trying to be set on a copy of a slice from a DataFrame\n",
            "\n",
            "See the caveats in the documentation: https://pandas.pydata.org/pandas-docs/stable/user_guide/indexing.html#returning-a-view-versus-a-copy\n",
            "  \n"
          ]
        }
      ]
    },
    {
      "cell_type": "code",
      "metadata": {
        "id": "uHjHJYLh1RdV"
      },
      "source": [
        "length = len(train)"
      ],
      "execution_count": 35,
      "outputs": []
    },
    {
      "cell_type": "code",
      "metadata": {
        "id": "prmA8KdQyqIT"
      },
      "source": [
        "mean_vector = [np.mean(np.array(train.word_vector[i],dtype = 'f')) for i in range(length)]"
      ],
      "execution_count": 36,
      "outputs": []
    },
    {
      "cell_type": "code",
      "metadata": {
        "id": "2MaNWvcQ2rru"
      },
      "source": [
        "train.word_vector = mean_vector"
      ],
      "execution_count": 39,
      "outputs": []
    },
    {
      "cell_type": "code",
      "metadata": {
        "id": "TegVt2-93BDq"
      },
      "source": [
        "test = features_test"
      ],
      "execution_count": 41,
      "outputs": []
    },
    {
      "cell_type": "code",
      "metadata": {
        "id": "y8PWntyv3WBA"
      },
      "source": [
        "test = test.reset_index(drop=True)"
      ],
      "execution_count": 44,
      "outputs": []
    },
    {
      "cell_type": "code",
      "metadata": {
        "id": "3-Hr4yBY3rQo"
      },
      "source": [
        "length = len(test)"
      ],
      "execution_count": 46,
      "outputs": []
    },
    {
      "cell_type": "code",
      "metadata": {
        "id": "6TJt4BIN3vYW"
      },
      "source": [
        "word_vec = [eval(test.word_vector[i]) for i in range(length)]"
      ],
      "execution_count": 47,
      "outputs": []
    },
    {
      "cell_type": "code",
      "metadata": {
        "id": "riiDfvB041lO"
      },
      "source": [
        "mean_vec = [np.mean(np.array(eval(test.word_vector[i]),dtype = 'f')) for i in range(length)]"
      ],
      "execution_count": 51,
      "outputs": []
    },
    {
      "cell_type": "code",
      "metadata": {
        "colab": {
          "base_uri": "https://localhost:8080/"
        },
        "id": "VWtp4fUE6JYl",
        "outputId": "f172dcf9-1f85-49e9-f67a-30c40083bece"
      },
      "source": [
        "len(mean_vec)"
      ],
      "execution_count": 53,
      "outputs": [
        {
          "output_type": "execute_result",
          "data": {
            "text/plain": [
              "86128"
            ]
          },
          "metadata": {},
          "execution_count": 53
        }
      ]
    },
    {
      "cell_type": "code",
      "metadata": {
        "id": "LEQWqMJ97e-B"
      },
      "source": [
        "test.word_vector = mean_vec"
      ],
      "execution_count": 56,
      "outputs": []
    },
    {
      "cell_type": "code",
      "metadata": {
        "id": "nKtdENROM9En"
      },
      "source": [
        "df2 = train.copy() \n",
        "df3 = test.copy() \n",
        "\n",
        "def convert_to_binary(df, column_to_convert):\n",
        "  categories = list(df[column_to_convert].drop_duplicates())\n",
        "\n",
        "  for category in categories:\n",
        "    cat_name = str(category)\n",
        "    col_name = str(column_to_convert) + '_' + cat_name\n",
        "    df[col_name] = 0\n",
        "    df.loc[(df[column_to_convert] == category), col_name] = 1\n",
        "\n",
        "  return df\n",
        "df3 = convert_to_binary(df=df3, column_to_convert='Category')\n",
        "df3.drop('Category', axis=1, inplace=True)\n",
        "df2 = convert_to_binary(df=df2, column_to_convert='Category')\n",
        "df2.drop('Category', axis=1, inplace=True)"
      ],
      "execution_count": 58,
      "outputs": []
    },
    {
      "cell_type": "code",
      "metadata": {
        "id": "vMrJS4aH8OSh"
      },
      "source": [
        "labels_test = labels_test.reset_index(drop=True)"
      ],
      "execution_count": 62,
      "outputs": []
    },
    {
      "cell_type": "code",
      "metadata": {
        "id": "l9BHthbn84Af"
      },
      "source": [
        "df2.drop('Label',axis=1,inplace=True)"
      ],
      "execution_count": 69,
      "outputs": []
    },
    {
      "cell_type": "code",
      "metadata": {
        "id": "PFNQ-o5w9Gr1"
      },
      "source": [
        "labels_train = train['Label']"
      ],
      "execution_count": 67,
      "outputs": []
    },
    {
      "cell_type": "code",
      "metadata": {
        "id": "QgwJEOEz9vCk"
      },
      "source": [
        "df3.drop('Index',axis=1,inplace=True)"
      ],
      "execution_count": 80,
      "outputs": []
    },
    {
      "cell_type": "code",
      "metadata": {
        "colab": {
          "base_uri": "https://localhost:8080/"
        },
        "id": "qQea_GdfAqtx",
        "outputId": "105eb603-8b6d-43c1-ddc6-98a3d1affd67"
      },
      "source": [
        "import lightgbm as lgb\n",
        "clf = lgb.LGBMClassifier()\n",
        "clf.fit(df2, labels_train)\n",
        "prediction = clf.predict(df3)\n",
        "from sklearn.metrics import accuracy_score\n",
        "print (accuracy_score(prediction, labels_test)*100,'%')"
      ],
      "execution_count": 82,
      "outputs": [
        {
          "output_type": "stream",
          "name": "stdout",
          "text": [
            "48.67987181868846 %\n"
          ]
        }
      ]
    }
  ]
}