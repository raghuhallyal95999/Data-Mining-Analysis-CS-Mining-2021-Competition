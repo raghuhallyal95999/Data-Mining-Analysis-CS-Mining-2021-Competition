{
  "nbformat": 4,
  "nbformat_minor": 0,
  "metadata": {
    "colab": {
      "name": "Task1(1).ipynb",
      "provenance": [],
      "collapsed_sections": []
    },
    "kernelspec": {
      "display_name": "Python 3",
      "name": "python3"
    },
    "language_info": {
      "name": "python"
    }
  },
  "cells": [
    {
      "cell_type": "markdown",
      "metadata": {
        "id": "jVYOwoJmezGB"
      },
      "source": [
        "Team ID-3, \n",
        "Sem-5, \n",
        "Div-E,\n",
        "Department-Computer Science.\n",
        "\n",
        "ACP08-Cybersecuirity Data Mining Competition.\n",
        "\n",
        "Problem Statement-\n",
        "\n",
        "1.Classifying attacks as Malicious or Benign.\n",
        "\n",
        "2.Catagorizing the attacks as Catagories.\n",
        "\n",
        "3.Classifyiing\n",
        "\n",
        "Team Leader-Sanjay Bhat\n",
        "\n",
        "Team Members:\n",
        "\n",
        "Raghvendra Hallyal-01fe19bcs304\n",
        "\n",
        "Sanjay Bhat-01fe19bcs283\n",
        "\n",
        "Naganand Narve-01fe19bcs284\n",
        "\n",
        "Chirag tandel-01fe19bcs280\n"
      ]
    },
    {
      "cell_type": "code",
      "metadata": {
        "colab": {
          "base_uri": "https://localhost:8080/"
        },
        "id": "yETvJE4xtbqB",
        "outputId": "fcaf574a-37a6-43e8-fd12-1b7794c96b55"
      },
      "source": [
        "import numpy as np\n",
        "import pandas as pd\n",
        "import matplotlib.pyplot as plt\n",
        "%pylab inline"
      ],
      "execution_count": 20,
      "outputs": [
        {
          "output_type": "stream",
          "name": "stdout",
          "text": [
            "Populating the interactive namespace from numpy and matplotlib\n"
          ]
        },
        {
          "output_type": "stream",
          "name": "stderr",
          "text": [
            "/usr/local/lib/python3.7/dist-packages/IPython/core/magics/pylab.py:161: UserWarning: pylab import has clobbered these variables: ['clf']\n",
            "`%matplotlib` prevents importing * from pylab and numpy\n",
            "  \"\\n`%matplotlib` prevents importing * from pylab and numpy\"\n"
          ]
        }
      ]
    },
    {
      "cell_type": "markdown",
      "metadata": {
        "id": "IaArt0CesU_X"
      },
      "source": [
        "Mounting Google Drive onto Colab"
      ]
    },
    {
      "cell_type": "code",
      "metadata": {
        "colab": {
          "base_uri": "https://localhost:8080/"
        },
        "id": "Wx-OyvhGJxhn",
        "outputId": "9c332229-a7a9-4471-aa77-085691791811"
      },
      "source": [
        "from google.colab import drive\n",
        "drive.mount('/content/gdrive',force_remount=True)"
      ],
      "execution_count": 21,
      "outputs": [
        {
          "output_type": "stream",
          "name": "stdout",
          "text": [
            "Mounted at /content/gdrive\n"
          ]
        }
      ]
    },
    {
      "cell_type": "markdown",
      "metadata": {
        "id": "tfW4S2F_sduB"
      },
      "source": [
        "Reading the Training data from CSV file and assigning Column names to it"
      ]
    },
    {
      "cell_type": "code",
      "metadata": {
        "colab": {
          "base_uri": "https://localhost:8080/",
          "height": 203
        },
        "id": "N2tJkQY-LMkQ",
        "outputId": "8bc10aea-d22f-45e1-d63f-402e3e3b38a6"
      },
      "source": [
        "columns = ['Index','Category','word_vector','Label']\n",
        "train = pd.read_csv(\"/content/gdrive/MyDrive/DMA Data Set/Task_1/Training.tsv\",sep='\\t',names = columns, header=0)\n",
        "train.head()"
      ],
      "execution_count": 22,
      "outputs": [
        {
          "output_type": "execute_result",
          "data": {
            "text/html": [
              "<div>\n",
              "<style scoped>\n",
              "    .dataframe tbody tr th:only-of-type {\n",
              "        vertical-align: middle;\n",
              "    }\n",
              "\n",
              "    .dataframe tbody tr th {\n",
              "        vertical-align: top;\n",
              "    }\n",
              "\n",
              "    .dataframe thead th {\n",
              "        text-align: right;\n",
              "    }\n",
              "</style>\n",
              "<table border=\"1\" class=\"dataframe\">\n",
              "  <thead>\n",
              "    <tr style=\"text-align: right;\">\n",
              "      <th></th>\n",
              "      <th>Index</th>\n",
              "      <th>Category</th>\n",
              "      <th>word_vector</th>\n",
              "      <th>Label</th>\n",
              "    </tr>\n",
              "  </thead>\n",
              "  <tbody>\n",
              "    <tr>\n",
              "      <th>0</th>\n",
              "      <td>0</td>\n",
              "      <td>24</td>\n",
              "      <td>[[-0.507, -0.49518, 0.46885, 0.54524, -0.11552...</td>\n",
              "      <td>2.0</td>\n",
              "    </tr>\n",
              "    <tr>\n",
              "      <th>1</th>\n",
              "      <td>1</td>\n",
              "      <td>13</td>\n",
              "      <td>[[0.19911, -0.46156, 0.19674, -1.3298, 0.51805...</td>\n",
              "      <td>1.0</td>\n",
              "    </tr>\n",
              "    <tr>\n",
              "      <th>2</th>\n",
              "      <td>2</td>\n",
              "      <td>24</td>\n",
              "      <td>[[-0.7403, -0.78746, 0.47018, 0.43474, 0.05842...</td>\n",
              "      <td>1.0</td>\n",
              "    </tr>\n",
              "    <tr>\n",
              "      <th>3</th>\n",
              "      <td>3</td>\n",
              "      <td>21</td>\n",
              "      <td>[[-0.44257, -0.54624, 0.25403, 0.80731, 1.026,...</td>\n",
              "      <td>1.0</td>\n",
              "    </tr>\n",
              "    <tr>\n",
              "      <th>4</th>\n",
              "      <td>4</td>\n",
              "      <td>13</td>\n",
              "      <td>[[0.19911, -0.46156, 0.19674, -1.3298, 0.51805...</td>\n",
              "      <td>2.0</td>\n",
              "    </tr>\n",
              "  </tbody>\n",
              "</table>\n",
              "</div>"
            ],
            "text/plain": [
              "   Index  Category                                        word_vector  Label\n",
              "0      0        24  [[-0.507, -0.49518, 0.46885, 0.54524, -0.11552...    2.0\n",
              "1      1        13  [[0.19911, -0.46156, 0.19674, -1.3298, 0.51805...    1.0\n",
              "2      2        24  [[-0.7403, -0.78746, 0.47018, 0.43474, 0.05842...    1.0\n",
              "3      3        21  [[-0.44257, -0.54624, 0.25403, 0.80731, 1.026,...    1.0\n",
              "4      4        13  [[0.19911, -0.46156, 0.19674, -1.3298, 0.51805...    2.0"
            ]
          },
          "metadata": {},
          "execution_count": 22
        }
      ]
    },
    {
      "cell_type": "code",
      "metadata": {
        "colab": {
          "base_uri": "https://localhost:8080/"
        },
        "id": "BiqzJESNTnVL",
        "outputId": "37e6de2a-3258-4041-d5a5-4332d537e80b"
      },
      "source": [
        "type(train.Label[0])"
      ],
      "execution_count": 23,
      "outputs": [
        {
          "output_type": "execute_result",
          "data": {
            "text/plain": [
              "numpy.float64"
            ]
          },
          "metadata": {},
          "execution_count": 23
        }
      ]
    },
    {
      "cell_type": "code",
      "metadata": {
        "colab": {
          "base_uri": "https://localhost:8080/"
        },
        "id": "sH5UgieiaTY3",
        "outputId": "ba91c1e2-cba1-419f-bb7b-3df24d39ad78"
      },
      "source": [
        "len(train)"
      ],
      "execution_count": 24,
      "outputs": [
        {
          "output_type": "execute_result",
          "data": {
            "text/plain": [
              "123040"
            ]
          },
          "metadata": {},
          "execution_count": 24
        }
      ]
    },
    {
      "cell_type": "markdown",
      "metadata": {
        "id": "czND5OntsqP2"
      },
      "source": [
        "Printing the percentage of Empty labels present in the Label cloumn"
      ]
    },
    {
      "cell_type": "code",
      "metadata": {
        "colab": {
          "base_uri": "https://localhost:8080/"
        },
        "id": "cDlmG_P8LVrG",
        "outputId": "88b6cedc-f64a-4be0-ae2f-90c7c7365731"
      },
      "source": [
        "print(train.isna().sum())\n",
        "# We can see that there are no Null values available in the Training Dataset"
      ],
      "execution_count": 25,
      "outputs": [
        {
          "output_type": "stream",
          "name": "stdout",
          "text": [
            "Index          0\n",
            "Category       0\n",
            "word_vector    0\n",
            "Label          0\n",
            "dtype: int64\n"
          ]
        }
      ]
    },
    {
      "cell_type": "markdown",
      "metadata": {
        "id": "VBXk2Fv0tDZk"
      },
      "source": [
        "Droping Index attribute and restting the indexes.\n"
      ]
    },
    {
      "cell_type": "code",
      "metadata": {
        "colab": {
          "base_uri": "https://localhost:8080/",
          "height": 220
        },
        "id": "YTPttQt2L1Tx",
        "outputId": "32074a4d-c35f-4544-8ed7-b7f69cdc0c1d"
      },
      "source": [
        "train.reset_index(inplace=True)\n",
        "train.drop(['index','Index'],axis='columns', inplace=True)\n",
        "print(train.shape[0])\n",
        "train.head()"
      ],
      "execution_count": 26,
      "outputs": [
        {
          "output_type": "stream",
          "name": "stdout",
          "text": [
            "123040\n"
          ]
        },
        {
          "output_type": "execute_result",
          "data": {
            "text/html": [
              "<div>\n",
              "<style scoped>\n",
              "    .dataframe tbody tr th:only-of-type {\n",
              "        vertical-align: middle;\n",
              "    }\n",
              "\n",
              "    .dataframe tbody tr th {\n",
              "        vertical-align: top;\n",
              "    }\n",
              "\n",
              "    .dataframe thead th {\n",
              "        text-align: right;\n",
              "    }\n",
              "</style>\n",
              "<table border=\"1\" class=\"dataframe\">\n",
              "  <thead>\n",
              "    <tr style=\"text-align: right;\">\n",
              "      <th></th>\n",
              "      <th>Category</th>\n",
              "      <th>word_vector</th>\n",
              "      <th>Label</th>\n",
              "    </tr>\n",
              "  </thead>\n",
              "  <tbody>\n",
              "    <tr>\n",
              "      <th>0</th>\n",
              "      <td>24</td>\n",
              "      <td>[[-0.507, -0.49518, 0.46885, 0.54524, -0.11552...</td>\n",
              "      <td>2.0</td>\n",
              "    </tr>\n",
              "    <tr>\n",
              "      <th>1</th>\n",
              "      <td>13</td>\n",
              "      <td>[[0.19911, -0.46156, 0.19674, -1.3298, 0.51805...</td>\n",
              "      <td>1.0</td>\n",
              "    </tr>\n",
              "    <tr>\n",
              "      <th>2</th>\n",
              "      <td>24</td>\n",
              "      <td>[[-0.7403, -0.78746, 0.47018, 0.43474, 0.05842...</td>\n",
              "      <td>1.0</td>\n",
              "    </tr>\n",
              "    <tr>\n",
              "      <th>3</th>\n",
              "      <td>21</td>\n",
              "      <td>[[-0.44257, -0.54624, 0.25403, 0.80731, 1.026,...</td>\n",
              "      <td>1.0</td>\n",
              "    </tr>\n",
              "    <tr>\n",
              "      <th>4</th>\n",
              "      <td>13</td>\n",
              "      <td>[[0.19911, -0.46156, 0.19674, -1.3298, 0.51805...</td>\n",
              "      <td>2.0</td>\n",
              "    </tr>\n",
              "  </tbody>\n",
              "</table>\n",
              "</div>"
            ],
            "text/plain": [
              "   Category                                        word_vector  Label\n",
              "0        24  [[-0.507, -0.49518, 0.46885, 0.54524, -0.11552...    2.0\n",
              "1        13  [[0.19911, -0.46156, 0.19674, -1.3298, 0.51805...    1.0\n",
              "2        24  [[-0.7403, -0.78746, 0.47018, 0.43474, 0.05842...    1.0\n",
              "3        21  [[-0.44257, -0.54624, 0.25403, 0.80731, 1.026,...    1.0\n",
              "4        13  [[0.19911, -0.46156, 0.19674, -1.3298, 0.51805...    2.0"
            ]
          },
          "metadata": {},
          "execution_count": 26
        }
      ]
    },
    {
      "cell_type": "markdown",
      "metadata": {
        "id": "EwnRD2x5z0Xl"
      },
      "source": [
        "Since all the word vectors were in the form of strings,\n",
        "Converting the Word Vector to list of lists, and making them as 2 dimensional Numpy array and reassigning them to the word vector."
      ]
    },
    {
      "cell_type": "code",
      "metadata": {
        "id": "1X8Ngyh_52U5"
      },
      "source": [
        "train.word_vector = [np.mean(eval(train.iloc[i,1]),axis=1) for i in range(123040)] #estimated time 2:30 mins"
      ],
      "execution_count": 27,
      "outputs": []
    },
    {
      "cell_type": "markdown",
      "metadata": {
        "id": "ix8uFbma1yke"
      },
      "source": [
        "Creating 2 seperate Dataframe objects, where\n",
        "\n",
        "df1-  will have Training Dataset with mean of Word Vector\n",
        "\n",
        "df2 - will have Training Dataset with mean of Word Vectors and One-Hot Encoded Catagory values"
      ]
    },
    {
      "cell_type": "markdown",
      "metadata": {
        "id": "_nZPKaWVCpE5"
      },
      "source": [
        ""
      ]
    },
    {
      "cell_type": "code",
      "metadata": {
        "id": "nKtdENROM9En"
      },
      "source": [
        "df1 = train.copy() # Training Dataset with Mean of word Vector\n",
        "df2 = train.copy() #Catagory Hot-Encoded dataset with Mean of Word Vectors\n",
        "\n",
        "def convert_to_binary(df, column_to_convert):\n",
        "  categories = list(df[column_to_convert].drop_duplicates())\n",
        "\n",
        "  for category in categories:\n",
        "    cat_name = str(category)\n",
        "    col_name = str(column_to_convert) + '_' + cat_name\n",
        "    df[col_name] = 0\n",
        "    df.loc[(df[column_to_convert] == category), col_name] = 1\n",
        "\n",
        "  return df\n",
        "df2 = convert_to_binary(df=df2, column_to_convert='Category')\n",
        "df2.drop('Category', axis=1, inplace=True)"
      ],
      "execution_count": 28,
      "outputs": []
    },
    {
      "cell_type": "code",
      "metadata": {
        "id": "mjN7IQDnXUje"
      },
      "source": [
        "from tqdm import tqdm,trange"
      ],
      "execution_count": 29,
      "outputs": []
    },
    {
      "cell_type": "markdown",
      "metadata": {
        "id": "_c1gSjrkXSDw"
      },
      "source": [
        "Creating 2 dataframes with overall mean of word vectors"
      ]
    },
    {
      "cell_type": "code",
      "metadata": {
        "colab": {
          "base_uri": "https://localhost:8080/"
        },
        "id": "Tv5yJnvLGDDs",
        "outputId": "b79e1d4d-18a6-4532-80a4-ebe11c9da485"
      },
      "source": [
        "row_count = []\n",
        "df3 = df1.copy() #Dataframe with overall mean of word vector\n",
        "df4 = df2.copy() #Dataframe with overall mean of word vector and Hot-Encoded Catagory values\n",
        "for i in tqdm(range(123040),desc=\"Progress of Calculating mean:\"):\n",
        "  row_count.append(len(df3.word_vector[i]))\n",
        "  df3.word_vector[i] = np.mean(df3.word_vector[i])\n",
        "  df4.word_vector[i] = np.mean(df4.word_vector[i])\n",
        "df3[\"row_count\"] = row_count\n",
        "df4[\"row_count\"] = row_count\n",
        "del row_count"
      ],
      "execution_count": 30,
      "outputs": [
        {
          "output_type": "stream",
          "name": "stderr",
          "text": [
            "Progress of Calculating mean::   0%|          | 0/123040 [00:00<?, ?it/s]/usr/local/lib/python3.7/dist-packages/ipykernel_launcher.py:6: SettingWithCopyWarning: \n",
            "A value is trying to be set on a copy of a slice from a DataFrame\n",
            "\n",
            "See the caveats in the documentation: https://pandas.pydata.org/pandas-docs/stable/user_guide/indexing.html#returning-a-view-versus-a-copy\n",
            "  \n",
            "/usr/local/lib/python3.7/dist-packages/ipykernel_launcher.py:7: SettingWithCopyWarning: \n",
            "A value is trying to be set on a copy of a slice from a DataFrame\n",
            "\n",
            "See the caveats in the documentation: https://pandas.pydata.org/pandas-docs/stable/user_guide/indexing.html#returning-a-view-versus-a-copy\n",
            "  import sys\n",
            "Progress of Calculating mean:: 100%|██████████| 123040/123040 [05:20<00:00, 383.99it/s]\n"
          ]
        }
      ]
    },
    {
      "cell_type": "markdown",
      "metadata": {
        "id": "IoQ6XiqB4K1Q"
      },
      "source": [
        "Label Encoding the Label attribute and dropping the Label attribute from training Dataset"
      ]
    },
    {
      "cell_type": "code",
      "metadata": {
        "id": "hhZp-5idhq2O"
      },
      "source": [
        "from sklearn.preprocessing import LabelEncoder\n",
        "\n",
        "labels = df3['Label']\n",
        "\n",
        "# Label encoding for Malware Label Column\n",
        "le = LabelEncoder()\n",
        "Y = le.fit_transform(labels)\n",
        "\n",
        "X = df3.drop('Label', axis=1, inplace=False)"
      ],
      "execution_count": 31,
      "outputs": []
    },
    {
      "cell_type": "markdown",
      "metadata": {
        "id": "v2HSAF6hIVdz"
      },
      "source": [
        "Splitting the Training to 80% training data and 20% validation data"
      ]
    },
    {
      "cell_type": "code",
      "metadata": {
        "id": "b85RRcWJh0-c"
      },
      "source": [
        "#from sklearn import cross_validation\n",
        "from sklearn.model_selection import train_test_split\n",
        "## Spliting of training dataset into 80% training data and 20% testing data randomly\n",
        "features_train, features_test, labels_train, labels_test = train_test_split(X, Y, test_size=0.2, random_state=1)"
      ],
      "execution_count": 32,
      "outputs": []
    },
    {
      "cell_type": "markdown",
      "metadata": {
        "id": "yIiaujMNIgqI"
      },
      "source": [
        "Using decision tree to obtain a model from Training data"
      ]
    },
    {
      "cell_type": "code",
      "metadata": {
        "colab": {
          "base_uri": "https://localhost:8080/"
        },
        "id": "hnaDSdwuiIIw",
        "outputId": "88f7f8b2-4841-487d-de57-9d8879b82176"
      },
      "source": [
        "# features_train.info()\n",
        "## Decision Tree \n",
        "from sklearn import tree\n",
        "clf = tree.DecisionTreeClassifier(min_samples_split=50, max_depth = 5, criterion = 'entropy')\n",
        "## min_samples_split=50 max_depth = 5 criterion='entropy'\n",
        "clf.fit(features_train, labels_train)\n",
        "prediction = clf.predict(features_test)\n",
        "from sklearn.metrics import accuracy_score\n",
        "print (accuracy_score(prediction, labels_test)*100,'%')"
      ],
      "execution_count": 33,
      "outputs": [
        {
          "output_type": "stream",
          "name": "stdout",
          "text": [
            "72.99252275682704 %\n"
          ]
        }
      ]
    },
    {
      "cell_type": "markdown",
      "metadata": {
        "id": "lSZNpSZcPsO_"
      },
      "source": [
        "Using Gaussian Naive Bayes"
      ]
    },
    {
      "cell_type": "code",
      "metadata": {
        "colab": {
          "base_uri": "https://localhost:8080/"
        },
        "id": "xTRI30SjSEky",
        "outputId": "504f5a7d-fd5e-4ef2-d16e-46679e28d7df"
      },
      "source": [
        "## Gaussian Naive Bayes\n",
        "from sklearn.naive_bayes import GaussianNB\n",
        "clf = GaussianNB()\n",
        "clf.fit(features_train, labels_train)\n",
        "prediction = clf.predict(features_test)\n",
        "\n",
        "## Computing accuracy\n",
        "print (accuracy_score(prediction, labels_test)*100,'%')"
      ],
      "execution_count": 34,
      "outputs": [
        {
          "output_type": "stream",
          "name": "stdout",
          "text": [
            "55.76235370611183 %\n"
          ]
        }
      ]
    },
    {
      "cell_type": "markdown",
      "metadata": {
        "id": "KEErFr4-TJMQ"
      },
      "source": [
        "Decision Tree with GridSearchCV"
      ]
    },
    {
      "cell_type": "code",
      "metadata": {
        "colab": {
          "base_uri": "https://localhost:8080/"
        },
        "id": "8xrwhJh7TKj4",
        "outputId": "180d3974-0ddb-46c8-c092-5a8a68d559b1"
      },
      "source": [
        "from sklearn import tree\n",
        "from sklearn.model_selection import GridSearchCV\n",
        "parameters = {'criterion':('gini', 'entropy'), 'max_depth':[1, 3, 5, 10]}\n",
        "dt = tree.DecisionTreeClassifier()\n",
        "clf = GridSearchCV(dt, parameters)\n",
        "\n",
        "clf.fit(features_train, labels_train)\n",
        "prediction = clf.predict(features_test)\n",
        "\n",
        "## Computing accuracy\n",
        "from sklearn.metrics import accuracy_score\n",
        "print (accuracy_score(prediction, labels_test)*100,'%')"
      ],
      "execution_count": 35,
      "outputs": [
        {
          "output_type": "stream",
          "name": "stdout",
          "text": [
            "78.43790637191157 %\n"
          ]
        }
      ]
    },
    {
      "cell_type": "markdown",
      "metadata": {
        "id": "et15dRbXHx01"
      },
      "source": [
        "XGBoost Classifier"
      ]
    },
    {
      "cell_type": "code",
      "metadata": {
        "colab": {
          "base_uri": "https://localhost:8080/"
        },
        "id": "E7ypQnLvHJKD",
        "outputId": "49321576-a8f4-49e4-d5c6-ca5f19096bcc"
      },
      "source": [
        "from xgboost import XGBClassifier\n",
        "clf = XGBClassifier()\n",
        "clf.fit(np.array(features_train), np.array(labels_train))\n",
        "prediction = clf.predict(np.array(features_test))\n",
        "print (accuracy_score(prediction, labels_test)*100,'%')"
      ],
      "execution_count": 36,
      "outputs": [
        {
          "output_type": "stream",
          "name": "stdout",
          "text": [
            "77.56014304291287 %\n"
          ]
        }
      ]
    },
    {
      "cell_type": "markdown",
      "metadata": {
        "id": "niafqXlFPV_3"
      },
      "source": [
        "Gradient Boositng Classifier"
      ]
    },
    {
      "cell_type": "code",
      "metadata": {
        "colab": {
          "base_uri": "https://localhost:8080/"
        },
        "id": "FWPaLyNHPVa4",
        "outputId": "d54d9031-c4a9-4505-a913-b11f8eb6801a"
      },
      "source": [
        "from sklearn.ensemble import GradientBoostingClassifier\n",
        "clf = GradientBoostingClassifier(n_estimators=100, learning_rate=1.0,max_depth=1, random_state=0).fit(features_train, labels_train)\n",
        "prediction = clf.predict(features_test)\n",
        "from sklearn.metrics import accuracy_score\n",
        "print (accuracy_score(prediction, labels_test)*100,'%')"
      ],
      "execution_count": 37,
      "outputs": [
        {
          "output_type": "stream",
          "name": "stdout",
          "text": [
            "75.10159297789338 %\n"
          ]
        }
      ]
    },
    {
      "cell_type": "markdown",
      "metadata": {
        "id": "jaiV2d99OwBd"
      },
      "source": [
        "Extra Trees Classifier"
      ]
    },
    {
      "cell_type": "code",
      "metadata": {
        "colab": {
          "base_uri": "https://localhost:8080/"
        },
        "id": "7n1um0VyIHFc",
        "outputId": "c3489583-c5af-4cd0-8596-194a33a96744"
      },
      "source": [
        "from sklearn.ensemble import ExtraTreesClassifier\n",
        "clf = ExtraTreesClassifier(n_estimators=100,random_state=0)\n",
        "clf.fit(features_train,labels_train)\n",
        "prediction = clf.predict(features_test)\n",
        "print (accuracy_score(prediction, labels_test)*100,'%')"
      ],
      "execution_count": 38,
      "outputs": [
        {
          "output_type": "stream",
          "name": "stdout",
          "text": [
            "79.32786085825748 %\n"
          ]
        }
      ]
    },
    {
      "cell_type": "code",
      "metadata": {
        "id": "TEi3UcJXZ3OC",
        "colab": {
          "base_uri": "https://localhost:8080/"
        },
        "outputId": "49964184-944f-4a6e-c22e-a2dc8eacf664"
      },
      "source": [
        "test_perc_list = [0.1,0.2,0.3,0.4,0.5,0.6,0.7,0.8,0.9]\n",
        "!pip install eli5\n",
        "from sklearn.model_selection import learning_curve\n",
        "from sklearn.metrics import mean_squared_log_error\n",
        "import eli5\n",
        "from tqdm import tqdm_notebook\n",
        "from sklearn.model_selection import KFold"
      ],
      "execution_count": 39,
      "outputs": [
        {
          "output_type": "stream",
          "name": "stdout",
          "text": [
            "Collecting eli5\n",
            "  Downloading eli5-0.11.0-py2.py3-none-any.whl (106 kB)\n",
            "\u001b[?25l\r\u001b[K     |███                             | 10 kB 19.4 MB/s eta 0:00:01\r\u001b[K     |██████▏                         | 20 kB 23.7 MB/s eta 0:00:01\r\u001b[K     |█████████▎                      | 30 kB 24.8 MB/s eta 0:00:01\r\u001b[K     |████████████▍                   | 40 kB 12.5 MB/s eta 0:00:01\r\u001b[K     |███████████████▌                | 51 kB 6.0 MB/s eta 0:00:01\r\u001b[K     |██████████████████▌             | 61 kB 6.6 MB/s eta 0:00:01\r\u001b[K     |█████████████████████▋          | 71 kB 5.9 MB/s eta 0:00:01\r\u001b[K     |████████████████████████▊       | 81 kB 6.6 MB/s eta 0:00:01\r\u001b[K     |███████████████████████████▉    | 92 kB 7.0 MB/s eta 0:00:01\r\u001b[K     |███████████████████████████████ | 102 kB 5.7 MB/s eta 0:00:01\r\u001b[K     |████████████████████████████████| 106 kB 5.7 MB/s \n",
            "\u001b[?25hRequirement already satisfied: attrs>16.0.0 in /usr/local/lib/python3.7/dist-packages (from eli5) (21.2.0)\n",
            "Requirement already satisfied: graphviz in /usr/local/lib/python3.7/dist-packages (from eli5) (0.10.1)\n",
            "Requirement already satisfied: scikit-learn>=0.20 in /usr/local/lib/python3.7/dist-packages (from eli5) (0.22.2.post1)\n",
            "Requirement already satisfied: tabulate>=0.7.7 in /usr/local/lib/python3.7/dist-packages (from eli5) (0.8.9)\n",
            "Requirement already satisfied: jinja2 in /usr/local/lib/python3.7/dist-packages (from eli5) (2.11.3)\n",
            "Requirement already satisfied: six in /usr/local/lib/python3.7/dist-packages (from eli5) (1.15.0)\n",
            "Requirement already satisfied: numpy>=1.9.0 in /usr/local/lib/python3.7/dist-packages (from eli5) (1.19.5)\n",
            "Requirement already satisfied: scipy in /usr/local/lib/python3.7/dist-packages (from eli5) (1.4.1)\n",
            "Requirement already satisfied: joblib>=0.11 in /usr/local/lib/python3.7/dist-packages (from scikit-learn>=0.20->eli5) (1.0.1)\n",
            "Requirement already satisfied: MarkupSafe>=0.23 in /usr/local/lib/python3.7/dist-packages (from jinja2->eli5) (2.0.1)\n",
            "Installing collected packages: eli5\n",
            "Successfully installed eli5-0.11.0\n"
          ]
        },
        {
          "output_type": "stream",
          "name": "stderr",
          "text": [
            "/usr/local/lib/python3.7/dist-packages/sklearn/utils/deprecation.py:144: FutureWarning: The sklearn.feature_selection.base module is  deprecated in version 0.22 and will be removed in version 0.24. The corresponding classes / functions should instead be imported from sklearn.feature_selection. Anything that cannot be imported from sklearn.feature_selection is now part of the private API.\n",
            "  warnings.warn(message, FutureWarning)\n"
          ]
        }
      ]
    },
    {
      "cell_type": "code",
      "metadata": {
        "id": "MUTkfZEMpRjN"
      },
      "source": [
        "estimator=ExtraTreesClassifier(n_estimators=100,random_state=0)\n",
        "cv=5\n",
        "n_jobs=-1\n",
        "train_sizes, train_scores, test_scores = learning_curve(estimator,X, Y, cv=cv, n_jobs=n_jobs, train_sizes=test_perc_list)"
      ],
      "execution_count": 40,
      "outputs": []
    },
    {
      "cell_type": "code",
      "metadata": {
        "id": "Oojahii9pno8"
      },
      "source": [
        "def get_mean(arr):\n",
        "    final= []\n",
        "    for i in range(arr.shape[0]):\n",
        "        final.append(arr[i].mean())\n",
        "    return final"
      ],
      "execution_count": 41,
      "outputs": []
    },
    {
      "cell_type": "code",
      "metadata": {
        "id": "u3btLqmEpqJp"
      },
      "source": [
        "trainFinal,testFinal = get_mean(train_scores),get_mean(test_scores)\n",
        "import plotly.graph_objects as go"
      ],
      "execution_count": 42,
      "outputs": []
    },
    {
      "cell_type": "code",
      "metadata": {
        "id": "4xSTwbxkpqt1",
        "colab": {
          "base_uri": "https://localhost:8080/",
          "height": 542
        },
        "outputId": "9f78645a-b847-4128-8ef5-a3ec0cc9e94b"
      },
      "source": [
        "fig=go.Figure()\n",
        "x,y,z = test_perc_list,trainFinal,testFinal\n",
        "fig.add_trace(go.Scatter(x=x , y=y , name = 'Train Score',line_shape = 'linear'))\n",
        "fig.add_trace(go.Scatter(x=x , y=z , name = 'Test Score',line_shape = 'linear'))\n",
        "fig.update_layout(title_text = 'Bais Variance TradeOff')\n",
        "fig.update_xaxes(title_text='Train Size' , showgrid = False)\n",
        "fig.update_yaxes(title_text='Accuracy' , showgrid = False)\n",
        "fig.show()"
      ],
      "execution_count": 43,
      "outputs": [
        {
          "output_type": "display_data",
          "data": {
            "text/html": [
              "<html>\n",
              "<head><meta charset=\"utf-8\" /></head>\n",
              "<body>\n",
              "    <div>\n",
              "            <script src=\"https://cdnjs.cloudflare.com/ajax/libs/mathjax/2.7.5/MathJax.js?config=TeX-AMS-MML_SVG\"></script><script type=\"text/javascript\">if (window.MathJax) {MathJax.Hub.Config({SVG: {font: \"STIX-Web\"}});}</script>\n",
              "                <script type=\"text/javascript\">window.PlotlyConfig = {MathJaxConfig: 'local'};</script>\n",
              "        <script src=\"https://cdn.plot.ly/plotly-latest.min.js\"></script>    \n",
              "            <div id=\"131600d9-8004-4e38-b673-103c779a0b41\" class=\"plotly-graph-div\" style=\"height:525px; width:100%;\"></div>\n",
              "            <script type=\"text/javascript\">\n",
              "                \n",
              "                    window.PLOTLYENV=window.PLOTLYENV || {};\n",
              "                    \n",
              "                if (document.getElementById(\"131600d9-8004-4e38-b673-103c779a0b41\")) {\n",
              "                    Plotly.newPlot(\n",
              "                        '131600d9-8004-4e38-b673-103c779a0b41',\n",
              "                        [{\"line\": {\"shape\": \"linear\"}, \"name\": \"Train Score\", \"type\": \"scatter\", \"x\": [0.1, 0.2, 0.3, 0.4, 0.5, 0.6, 0.7, 0.8, 0.9], \"y\": [0.8043482678045312, 0.8008229198415118, 0.8012055945003216, 0.8016813979477803, 0.80168644343303, 0.8020420257708393, 0.8018373922382513, 0.801968378944695, 0.8018941617374814]}, {\"line\": {\"shape\": \"linear\"}, \"name\": \"Test Score\", \"type\": \"scatter\", \"x\": [0.1, 0.2, 0.3, 0.4, 0.5, 0.6, 0.7, 0.8, 0.9], \"y\": [0.7886622236671001, 0.7913930429128738, 0.7924983745123537, 0.7926853055916776, 0.7935793237971391, 0.7941157347204161, 0.7948878413524059, 0.7949366059817946, 0.7951885565669701]}],\n",
              "                        {\"template\": {\"data\": {\"bar\": [{\"error_x\": {\"color\": \"#2a3f5f\"}, \"error_y\": {\"color\": \"#2a3f5f\"}, \"marker\": {\"line\": {\"color\": \"#E5ECF6\", \"width\": 0.5}}, \"type\": \"bar\"}], \"barpolar\": [{\"marker\": {\"line\": {\"color\": \"#E5ECF6\", \"width\": 0.5}}, \"type\": \"barpolar\"}], \"carpet\": [{\"aaxis\": {\"endlinecolor\": \"#2a3f5f\", \"gridcolor\": \"white\", \"linecolor\": \"white\", \"minorgridcolor\": \"white\", \"startlinecolor\": \"#2a3f5f\"}, \"baxis\": {\"endlinecolor\": \"#2a3f5f\", \"gridcolor\": \"white\", \"linecolor\": \"white\", \"minorgridcolor\": \"white\", \"startlinecolor\": \"#2a3f5f\"}, \"type\": \"carpet\"}], \"choropleth\": [{\"colorbar\": {\"outlinewidth\": 0, \"ticks\": \"\"}, \"type\": \"choropleth\"}], \"contour\": [{\"colorbar\": {\"outlinewidth\": 0, \"ticks\": \"\"}, \"colorscale\": [[0.0, \"#0d0887\"], [0.1111111111111111, \"#46039f\"], [0.2222222222222222, \"#7201a8\"], [0.3333333333333333, \"#9c179e\"], [0.4444444444444444, \"#bd3786\"], [0.5555555555555556, \"#d8576b\"], [0.6666666666666666, \"#ed7953\"], [0.7777777777777778, \"#fb9f3a\"], [0.8888888888888888, \"#fdca26\"], [1.0, \"#f0f921\"]], \"type\": \"contour\"}], \"contourcarpet\": [{\"colorbar\": {\"outlinewidth\": 0, \"ticks\": \"\"}, \"type\": \"contourcarpet\"}], \"heatmap\": [{\"colorbar\": {\"outlinewidth\": 0, \"ticks\": \"\"}, \"colorscale\": [[0.0, \"#0d0887\"], [0.1111111111111111, \"#46039f\"], [0.2222222222222222, \"#7201a8\"], [0.3333333333333333, \"#9c179e\"], [0.4444444444444444, \"#bd3786\"], [0.5555555555555556, \"#d8576b\"], [0.6666666666666666, \"#ed7953\"], [0.7777777777777778, \"#fb9f3a\"], [0.8888888888888888, \"#fdca26\"], [1.0, \"#f0f921\"]], \"type\": \"heatmap\"}], \"heatmapgl\": [{\"colorbar\": {\"outlinewidth\": 0, \"ticks\": \"\"}, \"colorscale\": [[0.0, \"#0d0887\"], [0.1111111111111111, \"#46039f\"], [0.2222222222222222, \"#7201a8\"], [0.3333333333333333, \"#9c179e\"], [0.4444444444444444, \"#bd3786\"], [0.5555555555555556, \"#d8576b\"], [0.6666666666666666, \"#ed7953\"], [0.7777777777777778, \"#fb9f3a\"], [0.8888888888888888, \"#fdca26\"], [1.0, \"#f0f921\"]], \"type\": \"heatmapgl\"}], \"histogram\": [{\"marker\": {\"colorbar\": {\"outlinewidth\": 0, \"ticks\": \"\"}}, \"type\": \"histogram\"}], \"histogram2d\": [{\"colorbar\": {\"outlinewidth\": 0, \"ticks\": \"\"}, \"colorscale\": [[0.0, \"#0d0887\"], [0.1111111111111111, \"#46039f\"], [0.2222222222222222, \"#7201a8\"], [0.3333333333333333, \"#9c179e\"], [0.4444444444444444, \"#bd3786\"], [0.5555555555555556, \"#d8576b\"], [0.6666666666666666, \"#ed7953\"], [0.7777777777777778, \"#fb9f3a\"], [0.8888888888888888, \"#fdca26\"], [1.0, \"#f0f921\"]], \"type\": \"histogram2d\"}], \"histogram2dcontour\": [{\"colorbar\": {\"outlinewidth\": 0, \"ticks\": \"\"}, \"colorscale\": [[0.0, \"#0d0887\"], [0.1111111111111111, \"#46039f\"], [0.2222222222222222, \"#7201a8\"], [0.3333333333333333, \"#9c179e\"], [0.4444444444444444, \"#bd3786\"], [0.5555555555555556, \"#d8576b\"], [0.6666666666666666, \"#ed7953\"], [0.7777777777777778, \"#fb9f3a\"], [0.8888888888888888, \"#fdca26\"], [1.0, \"#f0f921\"]], \"type\": \"histogram2dcontour\"}], \"mesh3d\": [{\"colorbar\": {\"outlinewidth\": 0, \"ticks\": \"\"}, \"type\": \"mesh3d\"}], \"parcoords\": [{\"line\": {\"colorbar\": {\"outlinewidth\": 0, \"ticks\": \"\"}}, \"type\": \"parcoords\"}], \"pie\": [{\"automargin\": true, \"type\": \"pie\"}], \"scatter\": [{\"marker\": {\"colorbar\": {\"outlinewidth\": 0, \"ticks\": \"\"}}, \"type\": \"scatter\"}], \"scatter3d\": [{\"line\": {\"colorbar\": {\"outlinewidth\": 0, \"ticks\": \"\"}}, \"marker\": {\"colorbar\": {\"outlinewidth\": 0, \"ticks\": \"\"}}, \"type\": \"scatter3d\"}], \"scattercarpet\": [{\"marker\": {\"colorbar\": {\"outlinewidth\": 0, \"ticks\": \"\"}}, \"type\": \"scattercarpet\"}], \"scattergeo\": [{\"marker\": {\"colorbar\": {\"outlinewidth\": 0, \"ticks\": \"\"}}, \"type\": \"scattergeo\"}], \"scattergl\": [{\"marker\": {\"colorbar\": {\"outlinewidth\": 0, \"ticks\": \"\"}}, \"type\": \"scattergl\"}], \"scattermapbox\": [{\"marker\": {\"colorbar\": {\"outlinewidth\": 0, \"ticks\": \"\"}}, \"type\": \"scattermapbox\"}], \"scatterpolar\": [{\"marker\": {\"colorbar\": {\"outlinewidth\": 0, \"ticks\": \"\"}}, \"type\": \"scatterpolar\"}], \"scatterpolargl\": [{\"marker\": {\"colorbar\": {\"outlinewidth\": 0, \"ticks\": \"\"}}, \"type\": \"scatterpolargl\"}], \"scatterternary\": [{\"marker\": {\"colorbar\": {\"outlinewidth\": 0, \"ticks\": \"\"}}, \"type\": \"scatterternary\"}], \"surface\": [{\"colorbar\": {\"outlinewidth\": 0, \"ticks\": \"\"}, \"colorscale\": [[0.0, \"#0d0887\"], [0.1111111111111111, \"#46039f\"], [0.2222222222222222, \"#7201a8\"], [0.3333333333333333, \"#9c179e\"], [0.4444444444444444, \"#bd3786\"], [0.5555555555555556, \"#d8576b\"], [0.6666666666666666, \"#ed7953\"], [0.7777777777777778, \"#fb9f3a\"], [0.8888888888888888, \"#fdca26\"], [1.0, \"#f0f921\"]], \"type\": \"surface\"}], \"table\": [{\"cells\": {\"fill\": {\"color\": \"#EBF0F8\"}, \"line\": {\"color\": \"white\"}}, \"header\": {\"fill\": {\"color\": \"#C8D4E3\"}, \"line\": {\"color\": \"white\"}}, \"type\": \"table\"}]}, \"layout\": {\"annotationdefaults\": {\"arrowcolor\": \"#2a3f5f\", \"arrowhead\": 0, \"arrowwidth\": 1}, \"coloraxis\": {\"colorbar\": {\"outlinewidth\": 0, \"ticks\": \"\"}}, \"colorscale\": {\"diverging\": [[0, \"#8e0152\"], [0.1, \"#c51b7d\"], [0.2, \"#de77ae\"], [0.3, \"#f1b6da\"], [0.4, \"#fde0ef\"], [0.5, \"#f7f7f7\"], [0.6, \"#e6f5d0\"], [0.7, \"#b8e186\"], [0.8, \"#7fbc41\"], [0.9, \"#4d9221\"], [1, \"#276419\"]], \"sequential\": [[0.0, \"#0d0887\"], [0.1111111111111111, \"#46039f\"], [0.2222222222222222, \"#7201a8\"], [0.3333333333333333, \"#9c179e\"], [0.4444444444444444, \"#bd3786\"], [0.5555555555555556, \"#d8576b\"], [0.6666666666666666, \"#ed7953\"], [0.7777777777777778, \"#fb9f3a\"], [0.8888888888888888, \"#fdca26\"], [1.0, \"#f0f921\"]], \"sequentialminus\": [[0.0, \"#0d0887\"], [0.1111111111111111, \"#46039f\"], [0.2222222222222222, \"#7201a8\"], [0.3333333333333333, \"#9c179e\"], [0.4444444444444444, \"#bd3786\"], [0.5555555555555556, \"#d8576b\"], [0.6666666666666666, \"#ed7953\"], [0.7777777777777778, \"#fb9f3a\"], [0.8888888888888888, \"#fdca26\"], [1.0, \"#f0f921\"]]}, \"colorway\": [\"#636efa\", \"#EF553B\", \"#00cc96\", \"#ab63fa\", \"#FFA15A\", \"#19d3f3\", \"#FF6692\", \"#B6E880\", \"#FF97FF\", \"#FECB52\"], \"font\": {\"color\": \"#2a3f5f\"}, \"geo\": {\"bgcolor\": \"white\", \"lakecolor\": \"white\", \"landcolor\": \"#E5ECF6\", \"showlakes\": true, \"showland\": true, \"subunitcolor\": \"white\"}, \"hoverlabel\": {\"align\": \"left\"}, \"hovermode\": \"closest\", \"mapbox\": {\"style\": \"light\"}, \"paper_bgcolor\": \"white\", \"plot_bgcolor\": \"#E5ECF6\", \"polar\": {\"angularaxis\": {\"gridcolor\": \"white\", \"linecolor\": \"white\", \"ticks\": \"\"}, \"bgcolor\": \"#E5ECF6\", \"radialaxis\": {\"gridcolor\": \"white\", \"linecolor\": \"white\", \"ticks\": \"\"}}, \"scene\": {\"xaxis\": {\"backgroundcolor\": \"#E5ECF6\", \"gridcolor\": \"white\", \"gridwidth\": 2, \"linecolor\": \"white\", \"showbackground\": true, \"ticks\": \"\", \"zerolinecolor\": \"white\"}, \"yaxis\": {\"backgroundcolor\": \"#E5ECF6\", \"gridcolor\": \"white\", \"gridwidth\": 2, \"linecolor\": \"white\", \"showbackground\": true, \"ticks\": \"\", \"zerolinecolor\": \"white\"}, \"zaxis\": {\"backgroundcolor\": \"#E5ECF6\", \"gridcolor\": \"white\", \"gridwidth\": 2, \"linecolor\": \"white\", \"showbackground\": true, \"ticks\": \"\", \"zerolinecolor\": \"white\"}}, \"shapedefaults\": {\"line\": {\"color\": \"#2a3f5f\"}}, \"ternary\": {\"aaxis\": {\"gridcolor\": \"white\", \"linecolor\": \"white\", \"ticks\": \"\"}, \"baxis\": {\"gridcolor\": \"white\", \"linecolor\": \"white\", \"ticks\": \"\"}, \"bgcolor\": \"#E5ECF6\", \"caxis\": {\"gridcolor\": \"white\", \"linecolor\": \"white\", \"ticks\": \"\"}}, \"title\": {\"x\": 0.05}, \"xaxis\": {\"automargin\": true, \"gridcolor\": \"white\", \"linecolor\": \"white\", \"ticks\": \"\", \"title\": {\"standoff\": 15}, \"zerolinecolor\": \"white\", \"zerolinewidth\": 2}, \"yaxis\": {\"automargin\": true, \"gridcolor\": \"white\", \"linecolor\": \"white\", \"ticks\": \"\", \"title\": {\"standoff\": 15}, \"zerolinecolor\": \"white\", \"zerolinewidth\": 2}}}, \"title\": {\"text\": \"Bais Variance TradeOff\"}, \"xaxis\": {\"showgrid\": false, \"title\": {\"text\": \"Train Size\"}}, \"yaxis\": {\"showgrid\": false, \"title\": {\"text\": \"Accuracy\"}}},\n",
              "                        {\"responsive\": true}\n",
              "                    ).then(function(){\n",
              "                            \n",
              "var gd = document.getElementById('131600d9-8004-4e38-b673-103c779a0b41');\n",
              "var x = new MutationObserver(function (mutations, observer) {{\n",
              "        var display = window.getComputedStyle(gd).display;\n",
              "        if (!display || display === 'none') {{\n",
              "            console.log([gd, 'removed!']);\n",
              "            Plotly.purge(gd);\n",
              "            observer.disconnect();\n",
              "        }}\n",
              "}});\n",
              "\n",
              "// Listen for the removal of the full notebook cells\n",
              "var notebookContainer = gd.closest('#notebook-container');\n",
              "if (notebookContainer) {{\n",
              "    x.observe(notebookContainer, {childList: true});\n",
              "}}\n",
              "\n",
              "// Listen for the clearing of the current output cell\n",
              "var outputEl = gd.closest('.output');\n",
              "if (outputEl) {{\n",
              "    x.observe(outputEl, {childList: true});\n",
              "}}\n",
              "\n",
              "                        })\n",
              "                };\n",
              "                \n",
              "            </script>\n",
              "        </div>\n",
              "</body>\n",
              "</html>"
            ]
          },
          "metadata": {}
        }
      ]
    },
    {
      "cell_type": "code",
      "metadata": {
        "id": "74RD-GT0tjH1"
      },
      "source": [
        ""
      ],
      "execution_count": null,
      "outputs": []
    }
  ]
}