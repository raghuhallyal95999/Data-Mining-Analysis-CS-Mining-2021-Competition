{
  "nbformat": 4,
  "nbformat_minor": 0,
  "metadata": {
    "colab": {
      "name": "Task1(2).ipynb",
      "provenance": [],
      "collapsed_sections": []
    },
    "kernelspec": {
      "display_name": "Python 3",
      "name": "python3"
    },
    "language_info": {
      "name": "python"
    }
  },
  "cells": [
    {
      "cell_type": "markdown",
      "metadata": {
        "id": "UVz9Uk4kqENd"
      },
      "source": [
        "Importing Numpy and Pandas Library"
      ]
    },
    {
      "cell_type": "code",
      "metadata": {
        "colab": {
          "base_uri": "https://localhost:8080/"
        },
        "id": "yETvJE4xtbqB",
        "outputId": "e6108864-a140-4b56-9713-c60b9a2c6bed"
      },
      "source": [
        "import numpy as np\n",
        "import pandas as pd\n",
        "%pylab inline"
      ],
      "execution_count": 1,
      "outputs": [
        {
          "output_type": "stream",
          "name": "stdout",
          "text": [
            "Populating the interactive namespace from numpy and matplotlib\n"
          ]
        }
      ]
    },
    {
      "cell_type": "markdown",
      "metadata": {
        "id": "cn8pDVmYqTyI"
      },
      "source": [
        "Mounting Google Drive to Colab"
      ]
    },
    {
      "cell_type": "code",
      "metadata": {
        "colab": {
          "base_uri": "https://localhost:8080/"
        },
        "id": "Wx-OyvhGJxhn",
        "outputId": "552254f1-7f5e-4c41-beca-e7de51c878cd"
      },
      "source": [
        "from google.colab import drive\n",
        "drive.mount('/content/gdrive',force_remount=True)"
      ],
      "execution_count": 2,
      "outputs": [
        {
          "output_type": "stream",
          "name": "stdout",
          "text": [
            "Mounted at /content/gdrive\n"
          ]
        }
      ]
    },
    {
      "cell_type": "markdown",
      "metadata": {
        "id": "GuAoEMajqcrV"
      },
      "source": [
        "Reading data from TSV file"
      ]
    },
    {
      "cell_type": "code",
      "metadata": {
        "colab": {
          "base_uri": "https://localhost:8080/",
          "height": 203
        },
        "id": "N2tJkQY-LMkQ",
        "outputId": "fb3c841a-de2b-48ef-b5d0-cd52f2f26216"
      },
      "source": [
        "columns = ['Index','Category','word_vector','Label']\n",
        "train = pd.read_csv(\"/content/gdrive/MyDrive/DMA Data Set/Task_1/Training.tsv\",sep='\\t',names = columns, header=0)\n",
        "train.head()"
      ],
      "execution_count": 3,
      "outputs": [
        {
          "output_type": "execute_result",
          "data": {
            "text/html": [
              "<div>\n",
              "<style scoped>\n",
              "    .dataframe tbody tr th:only-of-type {\n",
              "        vertical-align: middle;\n",
              "    }\n",
              "\n",
              "    .dataframe tbody tr th {\n",
              "        vertical-align: top;\n",
              "    }\n",
              "\n",
              "    .dataframe thead th {\n",
              "        text-align: right;\n",
              "    }\n",
              "</style>\n",
              "<table border=\"1\" class=\"dataframe\">\n",
              "  <thead>\n",
              "    <tr style=\"text-align: right;\">\n",
              "      <th></th>\n",
              "      <th>Index</th>\n",
              "      <th>Category</th>\n",
              "      <th>word_vector</th>\n",
              "      <th>Label</th>\n",
              "    </tr>\n",
              "  </thead>\n",
              "  <tbody>\n",
              "    <tr>\n",
              "      <th>0</th>\n",
              "      <td>0</td>\n",
              "      <td>24</td>\n",
              "      <td>[[-0.507, -0.49518, 0.46885, 0.54524, -0.11552...</td>\n",
              "      <td>2.0</td>\n",
              "    </tr>\n",
              "    <tr>\n",
              "      <th>1</th>\n",
              "      <td>1</td>\n",
              "      <td>13</td>\n",
              "      <td>[[0.19911, -0.46156, 0.19674, -1.3298, 0.51805...</td>\n",
              "      <td>1.0</td>\n",
              "    </tr>\n",
              "    <tr>\n",
              "      <th>2</th>\n",
              "      <td>2</td>\n",
              "      <td>24</td>\n",
              "      <td>[[-0.7403, -0.78746, 0.47018, 0.43474, 0.05842...</td>\n",
              "      <td>1.0</td>\n",
              "    </tr>\n",
              "    <tr>\n",
              "      <th>3</th>\n",
              "      <td>3</td>\n",
              "      <td>21</td>\n",
              "      <td>[[-0.44257, -0.54624, 0.25403, 0.80731, 1.026,...</td>\n",
              "      <td>1.0</td>\n",
              "    </tr>\n",
              "    <tr>\n",
              "      <th>4</th>\n",
              "      <td>4</td>\n",
              "      <td>13</td>\n",
              "      <td>[[0.19911, -0.46156, 0.19674, -1.3298, 0.51805...</td>\n",
              "      <td>2.0</td>\n",
              "    </tr>\n",
              "  </tbody>\n",
              "</table>\n",
              "</div>"
            ],
            "text/plain": [
              "   Index  Category                                        word_vector  Label\n",
              "0      0        24  [[-0.507, -0.49518, 0.46885, 0.54524, -0.11552...    2.0\n",
              "1      1        13  [[0.19911, -0.46156, 0.19674, -1.3298, 0.51805...    1.0\n",
              "2      2        24  [[-0.7403, -0.78746, 0.47018, 0.43474, 0.05842...    1.0\n",
              "3      3        21  [[-0.44257, -0.54624, 0.25403, 0.80731, 1.026,...    1.0\n",
              "4      4        13  [[0.19911, -0.46156, 0.19674, -1.3298, 0.51805...    2.0"
            ]
          },
          "metadata": {},
          "execution_count": 3
        }
      ]
    },
    {
      "cell_type": "markdown",
      "metadata": {
        "id": "czND5OntsqP2"
      },
      "source": [
        "Printing percentage of Nan values in the Dataset"
      ]
    },
    {
      "cell_type": "code",
      "metadata": {
        "colab": {
          "base_uri": "https://localhost:8080/"
        },
        "id": "cDlmG_P8LVrG",
        "outputId": "0626b122-47e3-4e02-bb8c-f1644b8340ec"
      },
      "source": [
        "print(train.isna().sum())\n",
        "# We can see that there are no Null values available in the Training Dataset"
      ],
      "execution_count": 4,
      "outputs": [
        {
          "output_type": "stream",
          "name": "stdout",
          "text": [
            "Index          0\n",
            "Category       0\n",
            "word_vector    0\n",
            "Label          0\n",
            "dtype: int64\n"
          ]
        }
      ]
    },
    {
      "cell_type": "markdown",
      "metadata": {
        "id": "BN1VgDeRsQE7"
      },
      "source": [
        "Resetting the Index of the dataframe and dropping the Index attribute"
      ]
    },
    {
      "cell_type": "code",
      "metadata": {
        "colab": {
          "base_uri": "https://localhost:8080/",
          "height": 220
        },
        "id": "YTPttQt2L1Tx",
        "outputId": "bd780078-ab59-49ef-91b5-278595b05828"
      },
      "source": [
        "train.reset_index(inplace=True)\n",
        "train.drop(['index','Index'],axis='columns', inplace=True)\n",
        "print(train.shape[0])\n",
        "train.head()"
      ],
      "execution_count": 5,
      "outputs": [
        {
          "output_type": "stream",
          "name": "stdout",
          "text": [
            "123040\n"
          ]
        },
        {
          "output_type": "execute_result",
          "data": {
            "text/html": [
              "<div>\n",
              "<style scoped>\n",
              "    .dataframe tbody tr th:only-of-type {\n",
              "        vertical-align: middle;\n",
              "    }\n",
              "\n",
              "    .dataframe tbody tr th {\n",
              "        vertical-align: top;\n",
              "    }\n",
              "\n",
              "    .dataframe thead th {\n",
              "        text-align: right;\n",
              "    }\n",
              "</style>\n",
              "<table border=\"1\" class=\"dataframe\">\n",
              "  <thead>\n",
              "    <tr style=\"text-align: right;\">\n",
              "      <th></th>\n",
              "      <th>Category</th>\n",
              "      <th>word_vector</th>\n",
              "      <th>Label</th>\n",
              "    </tr>\n",
              "  </thead>\n",
              "  <tbody>\n",
              "    <tr>\n",
              "      <th>0</th>\n",
              "      <td>24</td>\n",
              "      <td>[[-0.507, -0.49518, 0.46885, 0.54524, -0.11552...</td>\n",
              "      <td>2.0</td>\n",
              "    </tr>\n",
              "    <tr>\n",
              "      <th>1</th>\n",
              "      <td>13</td>\n",
              "      <td>[[0.19911, -0.46156, 0.19674, -1.3298, 0.51805...</td>\n",
              "      <td>1.0</td>\n",
              "    </tr>\n",
              "    <tr>\n",
              "      <th>2</th>\n",
              "      <td>24</td>\n",
              "      <td>[[-0.7403, -0.78746, 0.47018, 0.43474, 0.05842...</td>\n",
              "      <td>1.0</td>\n",
              "    </tr>\n",
              "    <tr>\n",
              "      <th>3</th>\n",
              "      <td>21</td>\n",
              "      <td>[[-0.44257, -0.54624, 0.25403, 0.80731, 1.026,...</td>\n",
              "      <td>1.0</td>\n",
              "    </tr>\n",
              "    <tr>\n",
              "      <th>4</th>\n",
              "      <td>13</td>\n",
              "      <td>[[0.19911, -0.46156, 0.19674, -1.3298, 0.51805...</td>\n",
              "      <td>2.0</td>\n",
              "    </tr>\n",
              "  </tbody>\n",
              "</table>\n",
              "</div>"
            ],
            "text/plain": [
              "   Category                                        word_vector  Label\n",
              "0        24  [[-0.507, -0.49518, 0.46885, 0.54524, -0.11552...    2.0\n",
              "1        13  [[0.19911, -0.46156, 0.19674, -1.3298, 0.51805...    1.0\n",
              "2        24  [[-0.7403, -0.78746, 0.47018, 0.43474, 0.05842...    1.0\n",
              "3        21  [[-0.44257, -0.54624, 0.25403, 0.80731, 1.026,...    1.0\n",
              "4        13  [[0.19911, -0.46156, 0.19674, -1.3298, 0.51805...    2.0"
            ]
          },
          "metadata": {},
          "execution_count": 5
        }
      ]
    },
    {
      "cell_type": "markdown",
      "metadata": {
        "id": "jNtPjKO4sdKC"
      },
      "source": [
        "Calculating the Row count of each word vector and calculating the mean of each word vector (vertically)"
      ]
    },
    {
      "cell_type": "code",
      "metadata": {
        "colab": {
          "base_uri": "https://localhost:8080/"
        },
        "id": "UZ0ZeQ6kMJ5m",
        "outputId": "f02f50a3-5134-4ae0-94eb-d8eb1131b001"
      },
      "source": [
        "row_count = []\n",
        "from tqdm import tqdm,trange\n",
        "for i in tqdm(range(123040),desc=\"Numpy Array conversion Progess:\"): #Total 123040 rows\n",
        "  a = eval(train.word_vector[i])\n",
        "  row_count.append(len(a))\n",
        "  A = np.array(a,dtype = 'f')\n",
        "  train.word_vector[i] = np.mean(A,axis=0)\n",
        "train['row_count'] = row_count"
      ],
      "execution_count": 6,
      "outputs": [
        {
          "output_type": "stream",
          "name": "stderr",
          "text": [
            "Numpy Array conversion Progess::   0%|          | 0/123040 [00:00<?, ?it/s]/usr/local/lib/python3.7/dist-packages/ipykernel_launcher.py:7: SettingWithCopyWarning: \n",
            "A value is trying to be set on a copy of a slice from a DataFrame\n",
            "\n",
            "See the caveats in the documentation: https://pandas.pydata.org/pandas-docs/stable/user_guide/indexing.html#returning-a-view-versus-a-copy\n",
            "  import sys\n",
            "Numpy Array conversion Progess:: 100%|██████████| 123040/123040 [04:05<00:00, 502.08it/s]\n"
          ]
        }
      ]
    },
    {
      "cell_type": "markdown",
      "metadata": {
        "id": "TSh-Cahj3_YB"
      },
      "source": [
        "Creating Data Frame with Hot Encoded Category values"
      ]
    },
    {
      "cell_type": "code",
      "metadata": {
        "id": "nKtdENROM9En"
      },
      "source": [
        "df2 = train.copy() # Training Dataset with Mean of word Vector\n",
        "df3 = train.copy() #Catagory Hot-Encoded dataset with Mean of Word Vectors\n",
        "\n",
        "def convert_to_binary(df, column_to_convert):\n",
        "  categories = list(df[column_to_convert].drop_duplicates())\n",
        "\n",
        "  for category in categories:\n",
        "    cat_name = str(category)\n",
        "    col_name = str(column_to_convert) + '_' + cat_name\n",
        "    df[col_name] = 0\n",
        "    df.loc[(df[column_to_convert] == category), col_name] = 1\n",
        "\n",
        "  return df\n",
        "df3 = convert_to_binary(df=df3, column_to_convert='Category')\n",
        "df3.drop('Category', axis=1, inplace=True)"
      ],
      "execution_count": 7,
      "outputs": []
    },
    {
      "cell_type": "markdown",
      "metadata": {
        "id": "aLLrxE-X4PuT"
      },
      "source": [
        "Creating 100 dimensions for 100 values in the word_vector-"
      ]
    },
    {
      "cell_type": "code",
      "metadata": {
        "colab": {
          "base_uri": "https://localhost:8080/"
        },
        "id": "2x5sNuAbDMNn",
        "outputId": "4f3be9d2-3c77-410f-f6e9-bfe1c9033b84"
      },
      "source": [
        "dim_vector = {}\n",
        "for i in range(1,101):\n",
        "  x = dim_vector.setdefault(i,[])\n",
        "for i in tqdm(range(123040),desc=\"Progress:\"):#Total 123040 rows\n",
        "  for j in range(100):\n",
        "    dim_vector[j+1].append(df3.word_vector[i][j])"
      ],
      "execution_count": 8,
      "outputs": [
        {
          "output_type": "stream",
          "name": "stderr",
          "text": [
            "Progress:: 100%|██████████| 123040/123040 [02:10<00:00, 940.85it/s]\n"
          ]
        }
      ]
    },
    {
      "cell_type": "code",
      "metadata": {
        "id": "rEdBMEg0NuWd"
      },
      "source": [
        "for i in range(1,101):\n",
        "  key_name = 'dim_'+str(i)\n",
        "  # df2[key_name] = dim_vector[i]\n",
        "  df3[key_name] = dim_vector[i]"
      ],
      "execution_count": 9,
      "outputs": []
    },
    {
      "cell_type": "code",
      "metadata": {
        "id": "hhZp-5idhq2O"
      },
      "source": [
        "from sklearn.preprocessing import LabelEncoder\n",
        "\n",
        "labels = df3['Label']\n",
        "\n",
        "# Label encoding for Malware Label Column\n",
        "le = LabelEncoder()\n",
        "Y = le.fit_transform(labels)\n",
        "\n",
        "X = df3.drop(['Label','word_vector'], axis=1, inplace=False)"
      ],
      "execution_count": 10,
      "outputs": []
    },
    {
      "cell_type": "markdown",
      "metadata": {
        "id": "PEQap18I4-aV"
      },
      "source": [
        "Splitting the Data into 80:20 Train-Test split"
      ]
    },
    {
      "cell_type": "code",
      "metadata": {
        "id": "b85RRcWJh0-c"
      },
      "source": [
        "#from sklearn import cross_validation\n",
        "from sklearn.model_selection import train_test_split\n",
        "## Spliting of training dataset into 80% training data and 20% testing data randomly\n",
        "features_train, features_test, labels_train, labels_test = train_test_split(X, Y, test_size=0.2, random_state=1)"
      ],
      "execution_count": 11,
      "outputs": []
    },
    {
      "cell_type": "markdown",
      "metadata": {
        "id": "yIiaujMNIgqI"
      },
      "source": [
        "Using decision tree to obtain a model from Training data"
      ]
    },
    {
      "cell_type": "code",
      "metadata": {
        "colab": {
          "base_uri": "https://localhost:8080/"
        },
        "id": "hnaDSdwuiIIw",
        "outputId": "5af9a1ad-8662-4ae1-e6f4-d078214b9c78"
      },
      "source": [
        "# features_train.info()\n",
        "## Decision Tree \n",
        "from sklearn import tree\n",
        "clf = tree.DecisionTreeClassifier(min_samples_split=50, max_depth = 5, criterion = 'entropy')\n",
        "## min_samples_split=50 max_depth = 5 criterion='entropy'\n",
        "clf.fit(features_train, labels_train)\n",
        "prediction = clf.predict(features_test)\n",
        "from sklearn.metrics import accuracy_score\n",
        "print(accuracy_score(prediction, labels_test)*100,'%')"
      ],
      "execution_count": 12,
      "outputs": [
        {
          "output_type": "stream",
          "name": "stdout",
          "text": [
            "74.25633940182055 %\n"
          ]
        }
      ]
    },
    {
      "cell_type": "markdown",
      "metadata": {
        "id": "lSZNpSZcPsO_"
      },
      "source": [
        "Using Gaussian Naive Bayes"
      ]
    },
    {
      "cell_type": "code",
      "metadata": {
        "colab": {
          "base_uri": "https://localhost:8080/"
        },
        "id": "xTRI30SjSEky",
        "outputId": "b35af8fa-72ea-4670-bb9b-51ff226f9c66"
      },
      "source": [
        "## Gaussian Naive Bayes\n",
        "from sklearn.naive_bayes import GaussianNB\n",
        "clf = GaussianNB()\n",
        "clf.fit(features_train, labels_train)\n",
        "prediction = clf.predict(features_test)\n",
        "\n",
        "## Computing accuracy\n",
        "print (accuracy_score(prediction, labels_test)*100,'%')"
      ],
      "execution_count": 13,
      "outputs": [
        {
          "output_type": "stream",
          "name": "stdout",
          "text": [
            "63.4834200260078 %\n"
          ]
        }
      ]
    },
    {
      "cell_type": "markdown",
      "metadata": {
        "id": "KEErFr4-TJMQ"
      },
      "source": [
        "Decision Tree with GridSearchCV"
      ]
    },
    {
      "cell_type": "code",
      "metadata": {
        "colab": {
          "base_uri": "https://localhost:8080/"
        },
        "id": "8xrwhJh7TKj4",
        "outputId": "4a1ef325-e78f-471b-e1de-7998a186de71"
      },
      "source": [
        "from sklearn import tree\n",
        "from sklearn.model_selection import GridSearchCV\n",
        "parameters = {'criterion':('gini', 'entropy'), 'max_depth':[1, 3, 5, 10]}\n",
        "dt = tree.DecisionTreeClassifier()\n",
        "clf = GridSearchCV(dt, parameters)\n",
        "\n",
        "clf.fit(features_train, labels_train)\n",
        "prediction = clf.predict(features_test)\n",
        "\n",
        "## Computing accuracy\n",
        "from sklearn.metrics import accuracy_score\n",
        "print (accuracy_score(prediction, labels_test)*100,'%')"
      ],
      "execution_count": 14,
      "outputs": [
        {
          "output_type": "stream",
          "name": "stdout",
          "text": [
            "78.324122236671 %\n"
          ]
        }
      ]
    },
    {
      "cell_type": "markdown",
      "metadata": {
        "id": "et15dRbXHx01"
      },
      "source": [
        "XGBoost Classifier"
      ]
    },
    {
      "cell_type": "code",
      "metadata": {
        "colab": {
          "base_uri": "https://localhost:8080/"
        },
        "id": "E7ypQnLvHJKD",
        "outputId": "605b660e-71a2-493c-873f-4e6437515722"
      },
      "source": [
        "from xgboost import XGBClassifier\n",
        "clf = XGBClassifier()\n",
        "clf.fit(np.array(features_train), np.array(labels_train))\n",
        "prediction = clf.predict(np.array(features_test))\n",
        "print (accuracy_score(prediction, labels_test)*100,'%')"
      ],
      "execution_count": 15,
      "outputs": [
        {
          "output_type": "stream",
          "name": "stdout",
          "text": [
            "78.60858257477244 %\n"
          ]
        }
      ]
    },
    {
      "cell_type": "markdown",
      "metadata": {
        "id": "niafqXlFPV_3"
      },
      "source": [
        "Gradient Boositng Classifier"
      ]
    },
    {
      "cell_type": "code",
      "metadata": {
        "colab": {
          "base_uri": "https://localhost:8080/"
        },
        "id": "qBK2-R8qS_8F",
        "outputId": "1621d95d-7805-4eea-9d04-e21db5286799"
      },
      "source": [
        "from sklearn.ensemble import GradientBoostingClassifier\n",
        "clf = GradientBoostingClassifier(n_estimators=100, learning_rate=1.0,max_depth=1, random_state=0).fit(features_train, labels_train)\n",
        "prediction = clf.predict(features_test)\n",
        "from sklearn.metrics import accuracy_score\n",
        "print (accuracy_score(prediction, labels_test)*100,'%')"
      ],
      "execution_count": 16,
      "outputs": [
        {
          "output_type": "stream",
          "name": "stdout",
          "text": [
            "79.03120936280884 %\n"
          ]
        }
      ]
    },
    {
      "cell_type": "markdown",
      "metadata": {
        "id": "FTNxW-ooXHGK"
      },
      "source": [
        "Extra Trees Classifier"
      ]
    },
    {
      "cell_type": "code",
      "metadata": {
        "colab": {
          "base_uri": "https://localhost:8080/"
        },
        "id": "7n1um0VyIHFc",
        "outputId": "ebb9924a-4f70-497b-9da9-3e9e828e74b1"
      },
      "source": [
        "from sklearn.ensemble import ExtraTreesClassifier\n",
        "clf = ExtraTreesClassifier(n_estimators=100,random_state=0)\n",
        "clf.fit(features_train,labels_train)\n",
        "prediction = clf.predict(features_test)\n",
        "print (accuracy_score(prediction, labels_test)*100,'%')"
      ],
      "execution_count": 17,
      "outputs": [
        {
          "output_type": "stream",
          "name": "stdout",
          "text": [
            "79.68546814044213 %\n"
          ]
        }
      ]
    },
    {
      "cell_type": "markdown",
      "metadata": {
        "id": "4YDY-lFLAspP"
      },
      "source": [
        "LGBM Classifier"
      ]
    },
    {
      "cell_type": "code",
      "metadata": {
        "colab": {
          "base_uri": "https://localhost:8080/"
        },
        "id": "qQea_GdfAqtx",
        "outputId": "dbbd5939-3d99-4f6b-d341-c1545154fe01"
      },
      "source": [
        "import lightgbm as lgb\n",
        "clf = lgb.LGBMClassifier()\n",
        "clf.fit(features_train, labels_train)\n",
        "prediction = clf.predict(features_test)\n",
        "print (accuracy_score(prediction, labels_test)*100,'%')"
      ],
      "execution_count": 18,
      "outputs": [
        {
          "output_type": "stream",
          "name": "stdout",
          "text": [
            "79.68140442132639 %\n"
          ]
        }
      ]
    },
    {
      "cell_type": "markdown",
      "metadata": {
        "id": "2GpXwXPDpM4i"
      },
      "source": [
        "Bias Variance Curve"
      ]
    },
    {
      "cell_type": "code",
      "metadata": {
        "id": "TEi3UcJXZ3OC",
        "colab": {
          "base_uri": "https://localhost:8080/"
        },
        "outputId": "1973a56d-167c-4552-ebc0-09e05b5e9dd7"
      },
      "source": [
        "test_perc_list = [0.1,0.2,0.3,0.4,0.5,0.6,0.7,0.8,0.9]\n",
        "!pip install eli5\n",
        "from sklearn.model_selection import learning_curve\n",
        "from sklearn.metrics import mean_squared_log_error\n",
        "import eli5\n",
        "from tqdm import tqdm_notebook\n",
        "from sklearn.model_selection import KFold"
      ],
      "execution_count": 19,
      "outputs": [
        {
          "output_type": "stream",
          "name": "stdout",
          "text": [
            "Collecting eli5\n",
            "  Downloading eli5-0.11.0-py2.py3-none-any.whl (106 kB)\n",
            "\u001b[?25l\r\u001b[K     |███                             | 10 kB 28.0 MB/s eta 0:00:01\r\u001b[K     |██████▏                         | 20 kB 31.2 MB/s eta 0:00:01\r\u001b[K     |█████████▎                      | 30 kB 23.0 MB/s eta 0:00:01\r\u001b[K     |████████████▍                   | 40 kB 18.7 MB/s eta 0:00:01\r\u001b[K     |███████████████▌                | 51 kB 8.9 MB/s eta 0:00:01\r\u001b[K     |██████████████████▌             | 61 kB 9.4 MB/s eta 0:00:01\r\u001b[K     |█████████████████████▋          | 71 kB 8.0 MB/s eta 0:00:01\r\u001b[K     |████████████████████████▊       | 81 kB 8.9 MB/s eta 0:00:01\r\u001b[K     |███████████████████████████▉    | 92 kB 7.8 MB/s eta 0:00:01\r\u001b[K     |███████████████████████████████ | 102 kB 8.5 MB/s eta 0:00:01\r\u001b[K     |████████████████████████████████| 106 kB 8.5 MB/s \n",
            "\u001b[?25hRequirement already satisfied: attrs>16.0.0 in /usr/local/lib/python3.7/dist-packages (from eli5) (21.2.0)\n",
            "Requirement already satisfied: tabulate>=0.7.7 in /usr/local/lib/python3.7/dist-packages (from eli5) (0.8.9)\n",
            "Requirement already satisfied: scikit-learn>=0.20 in /usr/local/lib/python3.7/dist-packages (from eli5) (0.22.2.post1)\n",
            "Requirement already satisfied: six in /usr/local/lib/python3.7/dist-packages (from eli5) (1.15.0)\n",
            "Requirement already satisfied: jinja2 in /usr/local/lib/python3.7/dist-packages (from eli5) (2.11.3)\n",
            "Requirement already satisfied: numpy>=1.9.0 in /usr/local/lib/python3.7/dist-packages (from eli5) (1.19.5)\n",
            "Requirement already satisfied: graphviz in /usr/local/lib/python3.7/dist-packages (from eli5) (0.10.1)\n",
            "Requirement already satisfied: scipy in /usr/local/lib/python3.7/dist-packages (from eli5) (1.4.1)\n",
            "Requirement already satisfied: joblib>=0.11 in /usr/local/lib/python3.7/dist-packages (from scikit-learn>=0.20->eli5) (1.0.1)\n",
            "Requirement already satisfied: MarkupSafe>=0.23 in /usr/local/lib/python3.7/dist-packages (from jinja2->eli5) (2.0.1)\n",
            "Installing collected packages: eli5\n",
            "Successfully installed eli5-0.11.0\n"
          ]
        },
        {
          "output_type": "stream",
          "name": "stderr",
          "text": [
            "/usr/local/lib/python3.7/dist-packages/sklearn/utils/deprecation.py:144: FutureWarning: The sklearn.feature_selection.base module is  deprecated in version 0.22 and will be removed in version 0.24. The corresponding classes / functions should instead be imported from sklearn.feature_selection. Anything that cannot be imported from sklearn.feature_selection is now part of the private API.\n",
            "  warnings.warn(message, FutureWarning)\n"
          ]
        }
      ]
    },
    {
      "cell_type": "code",
      "metadata": {
        "id": "MUTkfZEMpRjN"
      },
      "source": [
        "estimator=ExtraTreesClassifier(n_estimators=100,random_state=0)\n",
        "cv=5\n",
        "n_jobs=-1\n",
        "train_sizes, train_scores, test_scores = learning_curve(estimator,X, Y, cv=cv, n_jobs=n_jobs, train_sizes=test_perc_list)"
      ],
      "execution_count": 20,
      "outputs": []
    },
    {
      "cell_type": "code",
      "metadata": {
        "id": "Oojahii9pno8"
      },
      "source": [
        "def get_mean(arr):\n",
        "    final= []\n",
        "    for i in range(arr.shape[0]):\n",
        "        final.append(arr[i].mean())\n",
        "    return final"
      ],
      "execution_count": 21,
      "outputs": []
    },
    {
      "cell_type": "code",
      "metadata": {
        "id": "u3btLqmEpqJp"
      },
      "source": [
        "trainFinal,testFinal = get_mean(train_scores),get_mean(test_scores)\n",
        "import plotly.graph_objects as go"
      ],
      "execution_count": 22,
      "outputs": []
    },
    {
      "cell_type": "code",
      "metadata": {
        "colab": {
          "base_uri": "https://localhost:8080/",
          "height": 542
        },
        "id": "4xSTwbxkpqt1",
        "outputId": "8fbb599c-4ba0-4bf7-ce06-5600524ce719"
      },
      "source": [
        "fig=go.Figure()\n",
        "x,y,z = test_perc_list,trainFinal,testFinal\n",
        "fig.add_trace(go.Scatter(x=x , y=y , name = 'Train Score',line_shape = 'linear'))\n",
        "fig.add_trace(go.Scatter(x=x , y=z , name = 'Test Score',line_shape = 'linear'))\n",
        "fig.update_layout(title_text = 'Bais Variance TradeOff')\n",
        "fig.update_xaxes(title_text='Train Size' , showgrid = False)\n",
        "fig.update_yaxes(title_text='Accuracy' , showgrid = False)\n",
        "fig.show()"
      ],
      "execution_count": 23,
      "outputs": [
        {
          "output_type": "display_data",
          "data": {
            "text/html": [
              "<html>\n",
              "<head><meta charset=\"utf-8\" /></head>\n",
              "<body>\n",
              "    <div>\n",
              "            <script src=\"https://cdnjs.cloudflare.com/ajax/libs/mathjax/2.7.5/MathJax.js?config=TeX-AMS-MML_SVG\"></script><script type=\"text/javascript\">if (window.MathJax) {MathJax.Hub.Config({SVG: {font: \"STIX-Web\"}});}</script>\n",
              "                <script type=\"text/javascript\">window.PlotlyConfig = {MathJaxConfig: 'local'};</script>\n",
              "        <script src=\"https://cdn.plot.ly/plotly-latest.min.js\"></script>    \n",
              "            <div id=\"87cdf121-820b-4fc6-baa6-a79d78059925\" class=\"plotly-graph-div\" style=\"height:525px; width:100%;\"></div>\n",
              "            <script type=\"text/javascript\">\n",
              "                \n",
              "                    window.PLOTLYENV=window.PLOTLYENV || {};\n",
              "                    \n",
              "                if (document.getElementById(\"87cdf121-820b-4fc6-baa6-a79d78059925\")) {\n",
              "                    Plotly.newPlot(\n",
              "                        '87cdf121-820b-4fc6-baa6-a79d78059925',\n",
              "                        [{\"line\": {\"shape\": \"linear\"}, \"name\": \"Train Score\", \"type\": \"scatter\", \"x\": [0.1, 0.2, 0.3, 0.4, 0.5, 0.6, 0.7, 0.8, 0.9], \"y\": [0.8043482678045312, 0.8008229198415118, 0.8012055945003216, 0.8016813979477803, 0.80168644343303, 0.8020420257708393, 0.8018373922382513, 0.801968378944695, 0.8018941617374814]}, {\"line\": {\"shape\": \"linear\"}, \"name\": \"Test Score\", \"type\": \"scatter\", \"x\": [0.1, 0.2, 0.3, 0.4, 0.5, 0.6, 0.7, 0.8, 0.9], \"y\": [0.794562743823147, 0.7964320546163849, 0.7973910923276983, 0.7978137191157348, 0.7981306892067621, 0.7984720416124838, 0.7987646293888166, 0.7985614434330299, 0.7986589726918076]}],\n",
              "                        {\"template\": {\"data\": {\"bar\": [{\"error_x\": {\"color\": \"#2a3f5f\"}, \"error_y\": {\"color\": \"#2a3f5f\"}, \"marker\": {\"line\": {\"color\": \"#E5ECF6\", \"width\": 0.5}}, \"type\": \"bar\"}], \"barpolar\": [{\"marker\": {\"line\": {\"color\": \"#E5ECF6\", \"width\": 0.5}}, \"type\": \"barpolar\"}], \"carpet\": [{\"aaxis\": {\"endlinecolor\": \"#2a3f5f\", \"gridcolor\": \"white\", \"linecolor\": \"white\", \"minorgridcolor\": \"white\", \"startlinecolor\": \"#2a3f5f\"}, \"baxis\": {\"endlinecolor\": \"#2a3f5f\", \"gridcolor\": \"white\", \"linecolor\": \"white\", \"minorgridcolor\": \"white\", \"startlinecolor\": \"#2a3f5f\"}, \"type\": \"carpet\"}], \"choropleth\": [{\"colorbar\": {\"outlinewidth\": 0, \"ticks\": \"\"}, \"type\": \"choropleth\"}], \"contour\": [{\"colorbar\": {\"outlinewidth\": 0, \"ticks\": \"\"}, \"colorscale\": [[0.0, \"#0d0887\"], [0.1111111111111111, \"#46039f\"], [0.2222222222222222, \"#7201a8\"], [0.3333333333333333, \"#9c179e\"], [0.4444444444444444, \"#bd3786\"], [0.5555555555555556, \"#d8576b\"], [0.6666666666666666, \"#ed7953\"], [0.7777777777777778, \"#fb9f3a\"], [0.8888888888888888, \"#fdca26\"], [1.0, \"#f0f921\"]], \"type\": \"contour\"}], \"contourcarpet\": [{\"colorbar\": {\"outlinewidth\": 0, \"ticks\": \"\"}, \"type\": \"contourcarpet\"}], \"heatmap\": [{\"colorbar\": {\"outlinewidth\": 0, \"ticks\": \"\"}, \"colorscale\": [[0.0, \"#0d0887\"], [0.1111111111111111, \"#46039f\"], [0.2222222222222222, \"#7201a8\"], [0.3333333333333333, \"#9c179e\"], [0.4444444444444444, \"#bd3786\"], [0.5555555555555556, \"#d8576b\"], [0.6666666666666666, \"#ed7953\"], [0.7777777777777778, \"#fb9f3a\"], [0.8888888888888888, \"#fdca26\"], [1.0, \"#f0f921\"]], \"type\": \"heatmap\"}], \"heatmapgl\": [{\"colorbar\": {\"outlinewidth\": 0, \"ticks\": \"\"}, \"colorscale\": [[0.0, \"#0d0887\"], [0.1111111111111111, \"#46039f\"], [0.2222222222222222, \"#7201a8\"], [0.3333333333333333, \"#9c179e\"], [0.4444444444444444, \"#bd3786\"], [0.5555555555555556, \"#d8576b\"], [0.6666666666666666, \"#ed7953\"], [0.7777777777777778, \"#fb9f3a\"], [0.8888888888888888, \"#fdca26\"], [1.0, \"#f0f921\"]], \"type\": \"heatmapgl\"}], \"histogram\": [{\"marker\": {\"colorbar\": {\"outlinewidth\": 0, \"ticks\": \"\"}}, \"type\": \"histogram\"}], \"histogram2d\": [{\"colorbar\": {\"outlinewidth\": 0, \"ticks\": \"\"}, \"colorscale\": [[0.0, \"#0d0887\"], [0.1111111111111111, \"#46039f\"], [0.2222222222222222, \"#7201a8\"], [0.3333333333333333, \"#9c179e\"], [0.4444444444444444, \"#bd3786\"], [0.5555555555555556, \"#d8576b\"], [0.6666666666666666, \"#ed7953\"], [0.7777777777777778, \"#fb9f3a\"], [0.8888888888888888, \"#fdca26\"], [1.0, \"#f0f921\"]], \"type\": \"histogram2d\"}], \"histogram2dcontour\": [{\"colorbar\": {\"outlinewidth\": 0, \"ticks\": \"\"}, \"colorscale\": [[0.0, \"#0d0887\"], [0.1111111111111111, \"#46039f\"], [0.2222222222222222, \"#7201a8\"], [0.3333333333333333, \"#9c179e\"], [0.4444444444444444, \"#bd3786\"], [0.5555555555555556, \"#d8576b\"], [0.6666666666666666, \"#ed7953\"], [0.7777777777777778, \"#fb9f3a\"], [0.8888888888888888, \"#fdca26\"], [1.0, \"#f0f921\"]], \"type\": \"histogram2dcontour\"}], \"mesh3d\": [{\"colorbar\": {\"outlinewidth\": 0, \"ticks\": \"\"}, \"type\": \"mesh3d\"}], \"parcoords\": [{\"line\": {\"colorbar\": {\"outlinewidth\": 0, \"ticks\": \"\"}}, \"type\": \"parcoords\"}], \"pie\": [{\"automargin\": true, \"type\": \"pie\"}], \"scatter\": [{\"marker\": {\"colorbar\": {\"outlinewidth\": 0, \"ticks\": \"\"}}, \"type\": \"scatter\"}], \"scatter3d\": [{\"line\": {\"colorbar\": {\"outlinewidth\": 0, \"ticks\": \"\"}}, \"marker\": {\"colorbar\": {\"outlinewidth\": 0, \"ticks\": \"\"}}, \"type\": \"scatter3d\"}], \"scattercarpet\": [{\"marker\": {\"colorbar\": {\"outlinewidth\": 0, \"ticks\": \"\"}}, \"type\": \"scattercarpet\"}], \"scattergeo\": [{\"marker\": {\"colorbar\": {\"outlinewidth\": 0, \"ticks\": \"\"}}, \"type\": \"scattergeo\"}], \"scattergl\": [{\"marker\": {\"colorbar\": {\"outlinewidth\": 0, \"ticks\": \"\"}}, \"type\": \"scattergl\"}], \"scattermapbox\": [{\"marker\": {\"colorbar\": {\"outlinewidth\": 0, \"ticks\": \"\"}}, \"type\": \"scattermapbox\"}], \"scatterpolar\": [{\"marker\": {\"colorbar\": {\"outlinewidth\": 0, \"ticks\": \"\"}}, \"type\": \"scatterpolar\"}], \"scatterpolargl\": [{\"marker\": {\"colorbar\": {\"outlinewidth\": 0, \"ticks\": \"\"}}, \"type\": \"scatterpolargl\"}], \"scatterternary\": [{\"marker\": {\"colorbar\": {\"outlinewidth\": 0, \"ticks\": \"\"}}, \"type\": \"scatterternary\"}], \"surface\": [{\"colorbar\": {\"outlinewidth\": 0, \"ticks\": \"\"}, \"colorscale\": [[0.0, \"#0d0887\"], [0.1111111111111111, \"#46039f\"], [0.2222222222222222, \"#7201a8\"], [0.3333333333333333, \"#9c179e\"], [0.4444444444444444, \"#bd3786\"], [0.5555555555555556, \"#d8576b\"], [0.6666666666666666, \"#ed7953\"], [0.7777777777777778, \"#fb9f3a\"], [0.8888888888888888, \"#fdca26\"], [1.0, \"#f0f921\"]], \"type\": \"surface\"}], \"table\": [{\"cells\": {\"fill\": {\"color\": \"#EBF0F8\"}, \"line\": {\"color\": \"white\"}}, \"header\": {\"fill\": {\"color\": \"#C8D4E3\"}, \"line\": {\"color\": \"white\"}}, \"type\": \"table\"}]}, \"layout\": {\"annotationdefaults\": {\"arrowcolor\": \"#2a3f5f\", \"arrowhead\": 0, \"arrowwidth\": 1}, \"coloraxis\": {\"colorbar\": {\"outlinewidth\": 0, \"ticks\": \"\"}}, \"colorscale\": {\"diverging\": [[0, \"#8e0152\"], [0.1, \"#c51b7d\"], [0.2, \"#de77ae\"], [0.3, \"#f1b6da\"], [0.4, \"#fde0ef\"], [0.5, \"#f7f7f7\"], [0.6, \"#e6f5d0\"], [0.7, \"#b8e186\"], [0.8, \"#7fbc41\"], [0.9, \"#4d9221\"], [1, \"#276419\"]], \"sequential\": [[0.0, \"#0d0887\"], [0.1111111111111111, \"#46039f\"], [0.2222222222222222, \"#7201a8\"], [0.3333333333333333, \"#9c179e\"], [0.4444444444444444, \"#bd3786\"], [0.5555555555555556, \"#d8576b\"], [0.6666666666666666, \"#ed7953\"], [0.7777777777777778, \"#fb9f3a\"], [0.8888888888888888, \"#fdca26\"], [1.0, \"#f0f921\"]], \"sequentialminus\": [[0.0, \"#0d0887\"], [0.1111111111111111, \"#46039f\"], [0.2222222222222222, \"#7201a8\"], [0.3333333333333333, \"#9c179e\"], [0.4444444444444444, \"#bd3786\"], [0.5555555555555556, \"#d8576b\"], [0.6666666666666666, \"#ed7953\"], [0.7777777777777778, \"#fb9f3a\"], [0.8888888888888888, \"#fdca26\"], [1.0, \"#f0f921\"]]}, \"colorway\": [\"#636efa\", \"#EF553B\", \"#00cc96\", \"#ab63fa\", \"#FFA15A\", \"#19d3f3\", \"#FF6692\", \"#B6E880\", \"#FF97FF\", \"#FECB52\"], \"font\": {\"color\": \"#2a3f5f\"}, \"geo\": {\"bgcolor\": \"white\", \"lakecolor\": \"white\", \"landcolor\": \"#E5ECF6\", \"showlakes\": true, \"showland\": true, \"subunitcolor\": \"white\"}, \"hoverlabel\": {\"align\": \"left\"}, \"hovermode\": \"closest\", \"mapbox\": {\"style\": \"light\"}, \"paper_bgcolor\": \"white\", \"plot_bgcolor\": \"#E5ECF6\", \"polar\": {\"angularaxis\": {\"gridcolor\": \"white\", \"linecolor\": \"white\", \"ticks\": \"\"}, \"bgcolor\": \"#E5ECF6\", \"radialaxis\": {\"gridcolor\": \"white\", \"linecolor\": \"white\", \"ticks\": \"\"}}, \"scene\": {\"xaxis\": {\"backgroundcolor\": \"#E5ECF6\", \"gridcolor\": \"white\", \"gridwidth\": 2, \"linecolor\": \"white\", \"showbackground\": true, \"ticks\": \"\", \"zerolinecolor\": \"white\"}, \"yaxis\": {\"backgroundcolor\": \"#E5ECF6\", \"gridcolor\": \"white\", \"gridwidth\": 2, \"linecolor\": \"white\", \"showbackground\": true, \"ticks\": \"\", \"zerolinecolor\": \"white\"}, \"zaxis\": {\"backgroundcolor\": \"#E5ECF6\", \"gridcolor\": \"white\", \"gridwidth\": 2, \"linecolor\": \"white\", \"showbackground\": true, \"ticks\": \"\", \"zerolinecolor\": \"white\"}}, \"shapedefaults\": {\"line\": {\"color\": \"#2a3f5f\"}}, \"ternary\": {\"aaxis\": {\"gridcolor\": \"white\", \"linecolor\": \"white\", \"ticks\": \"\"}, \"baxis\": {\"gridcolor\": \"white\", \"linecolor\": \"white\", \"ticks\": \"\"}, \"bgcolor\": \"#E5ECF6\", \"caxis\": {\"gridcolor\": \"white\", \"linecolor\": \"white\", \"ticks\": \"\"}}, \"title\": {\"x\": 0.05}, \"xaxis\": {\"automargin\": true, \"gridcolor\": \"white\", \"linecolor\": \"white\", \"ticks\": \"\", \"title\": {\"standoff\": 15}, \"zerolinecolor\": \"white\", \"zerolinewidth\": 2}, \"yaxis\": {\"automargin\": true, \"gridcolor\": \"white\", \"linecolor\": \"white\", \"ticks\": \"\", \"title\": {\"standoff\": 15}, \"zerolinecolor\": \"white\", \"zerolinewidth\": 2}}}, \"title\": {\"text\": \"Bais Variance TradeOff\"}, \"xaxis\": {\"showgrid\": false, \"title\": {\"text\": \"Train Size\"}}, \"yaxis\": {\"showgrid\": false, \"title\": {\"text\": \"Accuracy\"}}},\n",
              "                        {\"responsive\": true}\n",
              "                    ).then(function(){\n",
              "                            \n",
              "var gd = document.getElementById('87cdf121-820b-4fc6-baa6-a79d78059925');\n",
              "var x = new MutationObserver(function (mutations, observer) {{\n",
              "        var display = window.getComputedStyle(gd).display;\n",
              "        if (!display || display === 'none') {{\n",
              "            console.log([gd, 'removed!']);\n",
              "            Plotly.purge(gd);\n",
              "            observer.disconnect();\n",
              "        }}\n",
              "}});\n",
              "\n",
              "// Listen for the removal of the full notebook cells\n",
              "var notebookContainer = gd.closest('#notebook-container');\n",
              "if (notebookContainer) {{\n",
              "    x.observe(notebookContainer, {childList: true});\n",
              "}}\n",
              "\n",
              "// Listen for the clearing of the current output cell\n",
              "var outputEl = gd.closest('.output');\n",
              "if (outputEl) {{\n",
              "    x.observe(outputEl, {childList: true});\n",
              "}}\n",
              "\n",
              "                        })\n",
              "                };\n",
              "                \n",
              "            </script>\n",
              "        </div>\n",
              "</body>\n",
              "</html>"
            ]
          },
          "metadata": {}
        }
      ]
    }
  ]
}